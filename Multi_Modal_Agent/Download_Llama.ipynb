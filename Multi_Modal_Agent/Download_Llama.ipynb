{
 "cells": [
  {
   "cell_type": "code",
   "execution_count": null,
   "id": "6d70a8c8",
   "metadata": {},
   "outputs": [],
   "source": [
    "import requests\n",
    "from huggingface_hub import login\n",
    "from transformers import AutoTokenizer"
   ]
  },
  {
   "cell_type": "code",
   "execution_count": null,
   "id": "31aaa7c1",
   "metadata": {},
   "outputs": [],
   "source": [
    "!pip install llama-stack"
   ]
  },
  {
   "cell_type": "code",
   "execution_count": null,
   "id": "33e8d2e9",
   "metadata": {},
   "outputs": [],
   "source": [
    "!llama model list"
   ]
  },
  {
   "cell_type": "code",
   "execution_count": null,
   "id": "5aea19ef",
   "metadata": {},
   "outputs": [],
   "source": [
    "!llama model download --source meta --model-id  Llama3.1-8B"
   ]
  },
  {
   "cell_type": "code",
   "execution_count": null,
   "id": "ea3fb3fa",
   "metadata": {},
   "outputs": [],
   "source": [
    "tokenizer = AutoTokenizer.from_pretrained('/root/.llama/checkpoints/Llama3.1-8B', trust_remote_code=True)"
   ]
  }
 ],
 "metadata": {
  "kernelspec": {
   "display_name": "venv",
   "language": "python",
   "name": "python3"
  },
  "language_info": {
   "codemirror_mode": {
    "name": "ipython",
    "version": 3
   },
   "file_extension": ".py",
   "mimetype": "text/x-python",
   "name": "python",
   "nbconvert_exporter": "python",
   "pygments_lexer": "ipython3",
   "version": "3.12.4"
  }
 },
 "nbformat": 4,
 "nbformat_minor": 5
}
