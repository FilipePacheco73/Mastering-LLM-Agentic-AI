{
 "cells": [
  {
   "cell_type": "markdown",
   "metadata": {},
   "source": [
    "# 1 Imports"
   ]
  },
  {
   "cell_type": "code",
   "execution_count": 2,
   "metadata": {},
   "outputs": [],
   "source": [
    "# imports\n",
    "\n",
    "import os\n",
    "import re\n",
    "import json\n",
    "import math\n",
    "import random\n",
    "from dotenv import load_dotenv\n",
    "from huggingface_hub import login\n",
    "from datasets import load_dataset, Dataset, DatasetDict\n",
    "from items import Item\n",
    "import matplotlib.pyplot as plt\n",
    "import pickle\n",
    "from collections import Counter\n",
    "from openai import OpenAI"
   ]
  },
  {
   "cell_type": "code",
   "execution_count": 3,
   "metadata": {},
   "outputs": [],
   "source": [
    "# Call it with Tester.test(function_name, *args)\n",
    "\n",
    "from testing import Tester"
   ]
  },
  {
   "cell_type": "markdown",
   "metadata": {},
   "source": [
    "# 2 Connect to OpenAI & HuggingFace"
   ]
  },
  {
   "cell_type": "code",
   "execution_count": 4,
   "metadata": {},
   "outputs": [],
   "source": [
    "# Load environment variables in a file called .env\n",
    "\n",
    "load_dotenv()\n",
    "api_key = os.getenv('OPEN_API_KEY')\n",
    "openai = OpenAI()"
   ]
  },
  {
   "cell_type": "code",
   "execution_count": 5,
   "metadata": {},
   "outputs": [
    {
     "name": "stderr",
     "output_type": "stream",
     "text": [
      "Note: Environment variable`HF_TOKEN` is set and is the current active token independently from the token you've just configured.\n"
     ]
    }
   ],
   "source": [
    "# Load environment variables in a file called .env\n",
    "\n",
    "load_dotenv()\n",
    "hf_token = os.getenv('HF_TOKEN')\n",
    "login(hf_token, add_to_git_credential=True)"
   ]
  },
  {
   "cell_type": "markdown",
   "metadata": {},
   "source": [
    "# 3 Load Dataset"
   ]
  },
  {
   "cell_type": "code",
   "execution_count": 6,
   "metadata": {},
   "outputs": [],
   "source": [
    "with open('train.pkl', 'rb') as file:\n",
    "    train = pickle.load(file)\n",
    "\n",
    "with open('test.pkl', 'rb') as file:\n",
    "    test = pickle.load(file)"
   ]
  },
  {
   "cell_type": "markdown",
   "metadata": {},
   "source": [
    "# 4 Fine-Tunning Preparation"
   ]
  },
  {
   "cell_type": "markdown",
   "metadata": {},
   "source": [
    "## 4.1 Data Selection"
   ]
  },
  {
   "cell_type": "code",
   "execution_count": 7,
   "metadata": {},
   "outputs": [],
   "source": [
    "fine_tune_train = train[:500]\n",
    "fine_tune_validation = train[500:1000]"
   ]
  },
  {
   "cell_type": "markdown",
   "metadata": {},
   "source": [
    "## 4.2 JSONL Preparation"
   ]
  },
  {
   "cell_type": "code",
   "execution_count": 8,
   "metadata": {},
   "outputs": [],
   "source": [
    "# Create a good prompt for the model\n",
    "\n",
    "def message_for(item):\n",
    "    system_message = \"You estimate prices of items. Reply only with the price, no explanation\"\n",
    "    user_prompt = item.test_prompt().replace(\" to the nearest dollar\", \"\").replace(\"\\n\\nPrice is $\", \"\")\n",
    "    return [\n",
    "        {\"role\": \"system\", \"content\": system_message},\n",
    "        {\"role\": \"user\", \"content\": user_prompt},\n",
    "        {\"role\": \"assistant\", \"content\": f\"Price is $ {item.price:.2f}\"}\n",
    "    ]"
   ]
  },
  {
   "cell_type": "code",
   "execution_count": 9,
   "metadata": {},
   "outputs": [
    {
     "name": "stdout",
     "output_type": "stream",
     "text": [
      "[{'role': 'system', 'content': 'You estimate prices of items. Reply only with the price, no explanation'}, {'role': 'user', 'content': 'How much does this cost?\\n\\nAMSUNBO Brand Musical Instruments Crystal Singing Bowl A Note Third Eye Chakra 8 inch with Free Suede Striker and O ring\\nBrand AMSUNBO Size 8 inch/ 20cm The Power of Crystal Singing Bowls “ Quartz is a vibrational transmitter” Wilson says. “We’re water . We are a perfect receptor for this kind of information.” Consider how running your finger around the edge of a crystal glass full of water makes it ring and the water itself shift. Because we are about 65–70% water, we react to the sound of the crystal bowls similarly, as their vibration penetrates into us. How to Play Quartz Crystal Singing Bowls Place the AMSUNBO crystal singing bowl symmetrically on its rubber o ring. Run the suede or'}, {'role': 'assistant', 'content': 'Price is $ 89.99'}]\n"
     ]
    }
   ],
   "source": [
    "print(message_for(train[0]))"
   ]
  },
  {
   "cell_type": "code",
   "execution_count": 10,
   "metadata": {},
   "outputs": [],
   "source": [
    "# Convert the items into a list of json objects - 'jsonl' string\n",
    "\n",
    "def make_jsonl(items):\n",
    "    result = ''\n",
    "    for item in items:\n",
    "        messages = message_for(item)\n",
    "        messages_str = json.dumps(messages)\n",
    "        result += '{\"messages\": ' + messages_str + '}\\n'\n",
    "    return result.strip()"
   ]
  },
  {
   "cell_type": "code",
   "execution_count": 11,
   "metadata": {},
   "outputs": [
    {
     "name": "stdout",
     "output_type": "stream",
     "text": [
      "{\"messages\": [{\"role\": \"system\", \"content\": \"You estimate prices of items. Reply only with the price, no explanation\"}, {\"role\": \"user\", \"content\": \"How much does this cost?\\n\\nAMSUNBO Brand Musical Instruments Crystal Singing Bowl A Note Third Eye Chakra 8 inch with Free Suede Striker and O ring\\nBrand AMSUNBO Size 8 inch/ 20cm The Power of Crystal Singing Bowls \\u201c Quartz is a vibrational transmitter\\u201d Wilson says. \\u201cWe\\u2019re water . We are a perfect receptor for this kind of information.\\u201d Consider how running your finger around the edge of a crystal glass full of water makes it ring and the water itself shift. Because we are about 65\\u201370% water, we react to the sound of the crystal bowls similarly, as their vibration penetrates into us. How to Play Quartz Crystal Singing Bowls Place the AMSUNBO crystal singing bowl symmetrically on its rubber o ring. Run the suede or\"}, {\"role\": \"assistant\", \"content\": \"Price is $ 89.99\"}]}\n",
      "{\"messages\": [{\"role\": \"system\", \"content\": \"You estimate prices of items. Reply only with the price, no explanation\"}, {\"role\": \"user\", \"content\": \"How much does this cost?\\n\\nPaganini 24 Caprices, Op. 1\\nPaganini, Capricci op. 1 / 24 Contradanze Inglesi for Violin solo DetailsEdition no. BA Macchione, DanielaLanguage(s) of text German, EnglishProduct format Performance score(s), Anthology, Urtext editionIncludes the following individual parts ViolinBinding PaperbackPages / Format XVIII, 66 S. - 31,0 x 24,3 cm The 24 \\u201cCaprices\\u201d by Paganini form a coherent group of works which require the highest degree of technical expertise. Since their publication in 1817 the \\u201cCaprices\\u201d have remained the defining milestone of violin technique.B\\u00e4renreiter\\u2019s scholarly\"}, {\"role\": \"assistant\", \"content\": \"Price is $ 35.35\"}]}\n",
      "{\"messages\": [{\"role\": \"system\", \"content\": \"You estimate prices of items. Reply only with the price, no explanation\"}, {\"role\": \"user\", \"content\": \"How much does this cost?\\n\\n60PCS Disco Ball Ornament - 1.2 Inch Mirror Disco Ball 60s 70s Reflective Mirror Ball Christmas Tree Wedding Birthday Party Ball Ornaments\\n\\ud83c\\udf1f60PCS Silver disco mirror hanging ball Our silver disco balls are covered with shiny mirror squares.Spark beautifully under lights reflection.In this way, splendid light effect will be created.Enough quantity to your use,replacement,and share with your family and friends in your party. \\u2728Hanging easily Each disco party hanging ball ornament with a silver thread at the top for easy suspension.No need extra tools.Great for add happy atmosphere and beautiful lighting during during your stage party festival. \\ud83c\\udf1fQuality made Covered with tiny mirror squares for extended use and durability.Hanging decor with great refect light surface\"}, {\"role\": \"assistant\", \"content\": \"Price is $ 14.99\"}]}\n"
     ]
    }
   ],
   "source": [
    "print(make_jsonl(train[:3]))"
   ]
  },
  {
   "cell_type": "markdown",
   "metadata": {},
   "source": [
    "## 4.3 Save JSONL"
   ]
  },
  {
   "cell_type": "code",
   "execution_count": 12,
   "metadata": {},
   "outputs": [],
   "source": [
    "def write_jsonl(items, filename):\n",
    "    with open(filename, 'w') as f:\n",
    "        jsonl = make_jsonl(items)\n",
    "        f.write(jsonl)"
   ]
  },
  {
   "cell_type": "code",
   "execution_count": 13,
   "metadata": {},
   "outputs": [],
   "source": [
    "write_jsonl(fine_tune_train, 'fine_tune_train.jsonl')\n",
    "write_jsonl(fine_tune_validation, 'fine_tune_validation.jsonl')"
   ]
  },
  {
   "cell_type": "markdown",
   "metadata": {},
   "source": [
    "## 4.4 Load JSONL"
   ]
  },
  {
   "cell_type": "code",
   "execution_count": 14,
   "metadata": {},
   "outputs": [],
   "source": [
    "with open('fine_tune_train.jsonl', 'rb') as f:\n",
    "    train_file = openai.files.create(file=f, purpose='fine-tune')"
   ]
  },
  {
   "cell_type": "code",
   "execution_count": 15,
   "metadata": {},
   "outputs": [
    {
     "name": "stdout",
     "output_type": "stream",
     "text": [
      "FileObject(id='file-QPYTfMnFShnb1uwBMyoXhr', bytes=470782, created_at=1744753990, filename='fine_tune_train.jsonl', object='file', purpose='fine-tune', status='processed', status_details=None, expires_at=None)\n"
     ]
    }
   ],
   "source": [
    "print(train_file)"
   ]
  },
  {
   "cell_type": "code",
   "execution_count": 16,
   "metadata": {},
   "outputs": [],
   "source": [
    "with open('fine_tune_validation.jsonl', 'rb') as f:\n",
    "    validation_file = openai.files.create(file=f, purpose='fine-tune')"
   ]
  },
  {
   "cell_type": "code",
   "execution_count": 17,
   "metadata": {},
   "outputs": [
    {
     "name": "stdout",
     "output_type": "stream",
     "text": [
      "FileObject(id='file-WgUFNaPi8L7jmQrCLBWWi3', bytes=466051, created_at=1744753992, filename='fine_tune_validation.jsonl', object='file', purpose='fine-tune', status='processed', status_details=None, expires_at=None)\n"
     ]
    }
   ],
   "source": [
    "print(validation_file)"
   ]
  },
  {
   "cell_type": "markdown",
   "metadata": {},
   "source": [
    "# 5 Fine-Tuning"
   ]
  },
  {
   "cell_type": "code",
   "execution_count": 18,
   "metadata": {},
   "outputs": [
    {
     "data": {
      "text/plain": [
       "FineTuningJob(id='ftjob-qNnl1CXOzGml8okZgE1QANnm', created_at=1744753994, error=Error(code=None, message=None, param=None), fine_tuned_model=None, finished_at=None, hyperparameters=Hyperparameters(batch_size='auto', learning_rate_multiplier='auto', n_epochs=1), model='gpt-4o-mini-2024-07-18', object='fine_tuning.job', organization_id='org-8cYu3pUev8eHFUUPBndE5KXh', result_files=[], seed=42, status='validating_files', trained_tokens=None, training_file='file-QPYTfMnFShnb1uwBMyoXhr', validation_file='file-WgUFNaPi8L7jmQrCLBWWi3', estimated_finish=None, integrations=[], method=Method(dpo=None, supervised=MethodSupervised(hyperparameters=MethodSupervisedHyperparameters(batch_size='auto', learning_rate_multiplier='auto', n_epochs=1)), type='supervised'), user_provided_suffix='pricer', metadata=None)"
      ]
     },
     "execution_count": 18,
     "metadata": {},
     "output_type": "execute_result"
    }
   ],
   "source": [
    "openai.fine_tuning.jobs.create(\n",
    "    training_file=train_file.id,\n",
    "    validation_file=validation_file.id,\n",
    "    model='gpt-4o-mini-2024-07-18',\n",
    "    seed=42,\n",
    "    hyperparameters={'n_epochs': 1},\n",
    "    suffix='pricer'\n",
    ")"
   ]
  },
  {
   "cell_type": "code",
   "execution_count": 19,
   "metadata": {},
   "outputs": [
    {
     "data": {
      "text/plain": [
       "SyncCursorPage[FineTuningJob](data=[FineTuningJob(id='ftjob-qNnl1CXOzGml8okZgE1QANnm', created_at=1744753994, error=Error(code=None, message=None, param=None), fine_tuned_model=None, finished_at=None, hyperparameters=Hyperparameters(batch_size='auto', learning_rate_multiplier='auto', n_epochs=1), model='gpt-4o-mini-2024-07-18', object='fine_tuning.job', organization_id='org-8cYu3pUev8eHFUUPBndE5KXh', result_files=[], seed=42, status='validating_files', trained_tokens=None, training_file='file-QPYTfMnFShnb1uwBMyoXhr', validation_file='file-WgUFNaPi8L7jmQrCLBWWi3', estimated_finish=None, integrations=[], method=Method(dpo=None, supervised=MethodSupervised(hyperparameters=MethodSupervisedHyperparameters(batch_size='auto', learning_rate_multiplier='auto', n_epochs=1)), type='supervised'), user_provided_suffix='pricer', metadata=None)], has_more=True, object='list')"
      ]
     },
     "execution_count": 19,
     "metadata": {},
     "output_type": "execute_result"
    }
   ],
   "source": [
    "openai.fine_tuning.jobs.list(limit=1)"
   ]
  },
  {
   "cell_type": "code",
   "execution_count": 20,
   "metadata": {},
   "outputs": [],
   "source": [
    "job_id = openai.fine_tuning.jobs.list(limit=1).data[0].id"
   ]
  },
  {
   "cell_type": "code",
   "execution_count": 21,
   "metadata": {},
   "outputs": [
    {
     "data": {
      "text/plain": [
       "FineTuningJob(id='ftjob-qNnl1CXOzGml8okZgE1QANnm', created_at=1744753994, error=Error(code=None, message=None, param=None), fine_tuned_model=None, finished_at=None, hyperparameters=Hyperparameters(batch_size='auto', learning_rate_multiplier='auto', n_epochs=1), model='gpt-4o-mini-2024-07-18', object='fine_tuning.job', organization_id='org-8cYu3pUev8eHFUUPBndE5KXh', result_files=[], seed=42, status='validating_files', trained_tokens=None, training_file='file-QPYTfMnFShnb1uwBMyoXhr', validation_file='file-WgUFNaPi8L7jmQrCLBWWi3', estimated_finish=None, integrations=[], method=Method(dpo=None, supervised=MethodSupervised(hyperparameters=MethodSupervisedHyperparameters(batch_size='auto', learning_rate_multiplier='auto', n_epochs=1)), type='supervised'), user_provided_suffix='pricer', metadata=None)"
      ]
     },
     "execution_count": 21,
     "metadata": {},
     "output_type": "execute_result"
    }
   ],
   "source": [
    "openai.fine_tuning.jobs.retrieve(job_id)"
   ]
  },
  {
   "cell_type": "code",
   "execution_count": 43,
   "metadata": {},
   "outputs": [
    {
     "data": {
      "text/plain": [
       "[FineTuningJobEvent(id='ftevent-8rUWwRGVJHN8snVXAFfEcdfp', created_at=1744757710, level='info', message='The job has successfully completed', object='fine_tuning.job.event', data={}, type='message'),\n",
       " FineTuningJobEvent(id='ftevent-nRUuSF7Z5mJzy8C74LdxKAJZ', created_at=1744757705, level='info', message='New fine-tuned model created', object='fine_tuning.job.event', data={}, type='message'),\n",
       " FineTuningJobEvent(id='ftevent-1rDyXQBjGQZPLTwdXNvtw3pb', created_at=1744757665, level='info', message='Step 500/500: training loss=0.33, validation loss=1.32, full validation loss=0.76', object='fine_tuning.job.event', data={'step': 500, 'train_loss': 0.3327687680721283, 'valid_loss': 1.3226610819498699, 'total_steps': 500, 'full_valid_loss': 0.76091431511773, 'train_mean_token_accuracy': 0.8888888955116272, 'valid_mean_token_accuracy': 0.7777777777777778, 'full_valid_mean_token_accuracy': 0.8373333333333334}, type='metrics'),\n",
       " FineTuningJobEvent(id='ftevent-qFoL40dGdQGfZKp4y3AaqFAD', created_at=1744757622, level='info', message='Step 499/500: training loss=0.97', object='fine_tuning.job.event', data={'step': 499, 'train_loss': 0.9716625213623047, 'total_steps': 500, 'train_mean_token_accuracy': 0.7777777910232544}, type='metrics'),\n",
       " FineTuningJobEvent(id='ftevent-bLJTeUVNCZpigh52iKJWviRJ', created_at=1744757622, level='info', message='Step 498/500: training loss=0.87', object='fine_tuning.job.event', data={'step': 498, 'train_loss': 0.8670444488525391, 'total_steps': 500, 'train_mean_token_accuracy': 0.8888888955116272}, type='metrics'),\n",
       " FineTuningJobEvent(id='ftevent-ZdbfmcU80y45kKDOdUSQm8ul', created_at=1744757622, level='info', message='Step 497/500: training loss=1.43', object='fine_tuning.job.event', data={'step': 497, 'train_loss': 1.4312396049499512, 'total_steps': 500, 'train_mean_token_accuracy': 0.7777777910232544}, type='metrics'),\n",
       " FineTuningJobEvent(id='ftevent-RxtRgRY0X0Elroh1sjXehAmg', created_at=1744757619, level='info', message='Step 496/500: training loss=0.97', object='fine_tuning.job.event', data={'step': 496, 'train_loss': 0.9699844717979431, 'total_steps': 500, 'train_mean_token_accuracy': 0.7777777910232544}, type='metrics'),\n",
       " FineTuningJobEvent(id='ftevent-xUViivFe3FxIiqcpN55ul3XO', created_at=1744757619, level='info', message='Step 495/500: training loss=0.25', object='fine_tuning.job.event', data={'step': 495, 'train_loss': 0.24509726464748383, 'total_steps': 500, 'train_mean_token_accuracy': 1.0}, type='metrics'),\n",
       " FineTuningJobEvent(id='ftevent-H67S0tkah3DcwSdRvc6jiMhl', created_at=1744757619, level='info', message='Step 494/500: training loss=0.37', object='fine_tuning.job.event', data={'step': 494, 'train_loss': 0.37176916003227234, 'total_steps': 500, 'train_mean_token_accuracy': 0.8888888955116272}, type='metrics'),\n",
       " FineTuningJobEvent(id='ftevent-QbJtgIECXU8Wr87OJlfReqMH', created_at=1744757617, level='info', message='Step 493/500: training loss=1.32', object='fine_tuning.job.event', data={'step': 493, 'train_loss': 1.3199841976165771, 'total_steps': 500, 'train_mean_token_accuracy': 0.7777777910232544}, type='metrics')]"
      ]
     },
     "execution_count": 43,
     "metadata": {},
     "output_type": "execute_result"
    }
   ],
   "source": [
    "openai.fine_tuning.jobs.list_events(fine_tuning_job_id=job_id, limit=10).data"
   ]
  },
  {
   "cell_type": "markdown",
   "metadata": {},
   "source": [
    "# 6 Prediction with the New Model"
   ]
  },
  {
   "cell_type": "code",
   "execution_count": 44,
   "metadata": {},
   "outputs": [
    {
     "name": "stdout",
     "output_type": "stream",
     "text": [
      "ft:gpt-4o-mini-2024-07-18:personal:pricer:BMjTEBKj\n"
     ]
    }
   ],
   "source": [
    "fine_tuned_model_name = openai.fine_tuning.jobs.retrieve(job_id).fine_tuned_model\n",
    "print(fine_tuned_model_name)"
   ]
  },
  {
   "cell_type": "code",
   "execution_count": 45,
   "metadata": {},
   "outputs": [],
   "source": [
    "def messages_for(item):\n",
    "    system_message = \"You estimate prices of items. Reply only with the price, no explanation\"\n",
    "    user_prompt = item.test_prompt().replace(\" to the nearest dollar\", \"\").replace(\"\\n\\nPrice is $\", \"\")\n",
    "    return [\n",
    "        {\"role\": \"system\", \"content\": system_message},\n",
    "        {\"role\": \"user\", \"content\": user_prompt},\n",
    "        {'role': 'assistant', 'content': f\"Price is $ {item.price:.2f}\"}\n",
    "    ]"
   ]
  },
  {
   "cell_type": "code",
   "execution_count": 46,
   "metadata": {},
   "outputs": [
    {
     "data": {
      "text/plain": [
       "[{'role': 'system',\n",
       "  'content': 'You estimate prices of items. Reply only with the price, no explanation'},\n",
       " {'role': 'user',\n",
       "  'content': 'How much does this cost?\\n\\nVic Firth Elementary Education Pack (includes SD1, M5, M14, BSB)\\nDesigned to include the correct tools for producing quality sound at the student level, the Vic Firth Education Packs were developed with a step up approach. As the student advances from beginner to intermediate, he or she will acquire the essentials for band and orchestra literature. The EP1 contains a Vic Firth stick bag equipped with a pair of SD1 General Drumsticks, M5 Medium Hard Rubber Mallets, and M14 Poly Head Mallets. Brand Vic Firth Product Code EP1 The EP1 contains a Vic Firth stick bag equipped with a pair of SD1 General Drumsticks, M5 Medium Hard Rubber Mallets, and M14 Poly Head Mallets Weight 1 pounds,'},\n",
       " {'role': 'assistant', 'content': 'Price is $ 59.99'}]"
      ]
     },
     "execution_count": 46,
     "metadata": {},
     "output_type": "execute_result"
    }
   ],
   "source": [
    "messages_for(test[0])"
   ]
  },
  {
   "cell_type": "code",
   "execution_count": 47,
   "metadata": {},
   "outputs": [],
   "source": [
    "def get_price(s):\n",
    "    s = s.replace('$','').replace(',','')\n",
    "    match = re.search(r\"[-+]?\\d*\\.\\d+|\\d+\", s)\n",
    "    return float(match.group()) if match else 0"
   ]
  },
  {
   "cell_type": "code",
   "execution_count": 48,
   "metadata": {},
   "outputs": [
    {
     "data": {
      "text/plain": [
       "123.45"
      ]
     },
     "execution_count": 48,
     "metadata": {},
     "output_type": "execute_result"
    }
   ],
   "source": [
    "get_price('The price is roughly $ 123.45')"
   ]
  },
  {
   "cell_type": "code",
   "execution_count": 49,
   "metadata": {},
   "outputs": [],
   "source": [
    "# Call the fine-tuned model\n",
    "def gpt_fine_tuned(item):\n",
    "    response = openai.chat.completions.create(\n",
    "        model=fine_tuned_model_name,\n",
    "        messages=messages_for(item),\n",
    "        seed=42,\n",
    "        max_tokens=7\n",
    "    )\n",
    "    reply = response.choices[0].message.content\n",
    "    return get_price(reply)"
   ]
  },
  {
   "cell_type": "code",
   "execution_count": 50,
   "metadata": {},
   "outputs": [
    {
     "name": "stdout",
     "output_type": "stream",
     "text": [
      "59.99 22.5\n"
     ]
    }
   ],
   "source": [
    "print(test[0].price, gpt_fine_tuned(test[0]))"
   ]
  },
  {
   "cell_type": "code",
   "execution_count": 51,
   "metadata": {},
   "outputs": [
    {
     "name": "stdout",
     "output_type": "stream",
     "text": [
      "\u001b[92m1: Guess: $22.50 Truth: $59.99 Error: $37.49 SLE: 0.91 Item: Vic Firth Elementary Education Pack (inc...\u001b[0m\n",
      "\u001b[92m2: Guess: $88.73 Truth: $88.73 Error: $0.00 SLE: 0.00 Item: Samson Q6 Dynamic Microphone 3-Pack, Bla...\u001b[0m\n",
      "\u001b[92m3: Guess: $26.65 Truth: $26.59 Error: $0.06 SLE: 0.00 Item: Buckle-Down Guitar Strap Unicorn Univers...\u001b[0m\n",
      "\u001b[92m4: Guess: $112.95 Truth: $113.40 Error: $0.45 SLE: 0.00 Item: Kluson Revolution Tuners 3x3 No Collar L...\u001b[0m\n",
      "\u001b[92m5: Guess: $60.99 Truth: $60.99 Error: $0.00 SLE: 0.00 Item: EBXYA 1/4 TRS to XLR Male 6.5ft 6 Color ...\u001b[0m\n",
      "\u001b[92m6: Guess: $22.99 Truth: $19.99 Error: $3.00 SLE: 0.02 Item: Tesi IDO Super M 10mm Stainless Steel Ki...\u001b[0m\n",
      "\u001b[92m7: Guess: $23.47 Truth: $21.23 Error: $2.24 SLE: 0.01 Item: ICEPURE 5231JA2002A Refrigerator Water F...\u001b[0m\n",
      "\u001b[92m8: Guess: $0.00 Truth: $5.99 Error: $5.99 SLE: 3.78 Item: Kmise Round Head Strap Locks Straplocks ...\u001b[0m\n",
      "\u001b[92m9: Guess: $3.99 Truth: $3.99 Error: $0.00 SLE: 0.00 Item: FUPEI 9 Pcs Maple Syrup 1 Quart Filter S...\u001b[0m\n",
      "\u001b[92m10: Guess: $80.00 Truth: $80.00 Error: $0.00 SLE: 0.00 Item: Lfhelper Portable Professional 25 Key Xy...\u001b[0m\n",
      "\u001b[92m11: Guess: $599.99 Truth: $599.99 Error: $0.00 SLE: 0.00 Item: Korg Minilogue XD 4-Voice Analog Synthes...\u001b[0m\n",
      "\u001b[92m12: Guess: $5.99 Truth: $5.99 Error: $0.00 SLE: 0.00 Item: StringClub Full Size (4/4) Violin Finger...\u001b[0m\n",
      "\u001b[92m13: Guess: $10.99 Truth: $27.99 Error: $17.00 SLE: 0.78 Item: MAYiT Drum Silencer Pads Set, 10pcs Fold...\u001b[0m\n",
      "\u001b[92m14: Guess: $0.00 Truth: $15.00 Error: $15.00 SLE: 7.69 Item: 6 Pack of 2 Inch Acoustic Foam Panels- P...\u001b[0m\n",
      "\u001b[93m15: Guess: $22.99 Truth: $65.99 Error: $43.00 SLE: 1.05 Item: Hipshot Grip-Lock Enclosed 4x2 Chrome lo...\u001b[0m\n",
      "\u001b[92m16: Guess: $10.99 Truth: $16.80 Error: $5.81 SLE: 0.16 Item: K&J 12-Pack of Cuisinart Compatible Repl...\u001b[0m\n",
      "\u001b[92m17: Guess: $95.25 Truth: $95.25 Error: $0.00 SLE: 0.00 Item: Whirlpool W8182119 Washer Door Boot (Rep...\u001b[0m\n",
      "\u001b[92m18: Guess: $99.99 Truth: $129.99 Error: $30.00 SLE: 0.07 Item: Focusrite Scarlett Solo (2nd Gen) USB Au...\u001b[0m\n",
      "\u001b[92m19: Guess: $69.99 Truth: $74.60 Error: $4.61 SLE: 0.00 Item: Teekland 4/4 Acoustic Violin With Case B...\u001b[0m\n",
      "\u001b[92m20: Guess: $32.00 Truth: $3.99 Error: $28.01 SLE: 3.57 Item: Folkcraft® Dulcimer Noter, Birch\u001b[0m\n",
      "\u001b[92m21: Guess: $39.95 Truth: $37.45 Error: $2.50 SLE: 0.00 Item: PASSE Ivory White Home Cabinet Door Kitc...\u001b[0m\n",
      "\u001b[92m22: Guess: $79.99 Truth: $79.99 Error: $0.00 SLE: 0.00 Item: Moukey Portable Bluetooth Speaker, Small...\u001b[0m\n",
      "\u001b[91m23: Guess: $47.99 Truth: $249.99 Error: $202.00 SLE: 2.67 Item: Moving Head Light, FODEXAZY DJ Lights 12...\u001b[0m\n",
      "\u001b[92m24: Guess: $7.37 Truth: $7.37 Error: $0.00 SLE: 0.00 Item: Bnineteenteam 6Pcs Brass Guitar Bridge P...\u001b[0m\n",
      "\u001b[91m25: Guess: $0.00 Truth: $228.99 Error: $228.99 SLE: 29.57 Item: Artudatech Moving Head Light Stage DJ Li...\u001b[0m\n",
      "\u001b[92m26: Guess: $69.99 Truth: $47.50 Error: $22.49 SLE: 0.15 Item: Low Om 68.05 hz Weighted Tuning Fork for...\u001b[0m\n",
      "\u001b[92m27: Guess: $204.99 Truth: $204.99 Error: $0.00 SLE: 0.00 Item: SKB ATA 24 Cymbal Vault with Handle and ...\u001b[0m\n",
      "\u001b[92m28: Guess: $21.99 Truth: $21.99 Error: $0.00 SLE: 0.00 Item: Mahogany Banjo Stand Also Fit Ukulele\u001b[0m\n",
      "\u001b[91m29: Guess: $0.00 Truth: $399.99 Error: $399.99 SLE: 35.93 Item: ADJ Products, Par Can Lighting Dimmer Co...\u001b[0m\n",
      "\u001b[91m30: Guess: $0.00 Truth: $124.99 Error: $124.99 SLE: 23.39 Item: 4) Gallons Chauvet DJ HDF High Density F...\u001b[0m\n",
      "\u001b[93m31: Guess: $47.22 Truth: $99.95 Error: $52.73 SLE: 0.55 Item: Mitsubishi PAR-FL32MA-E Handheld Wireles...\u001b[0m\n",
      "\u001b[92m32: Guess: $136.96 Truth: $136.96 Error: $0.00 SLE: 0.00 Item: GLI PRO Vette 12, 12-in Powered Speaker ...\u001b[0m\n",
      "\u001b[93m33: Guess: $74.99 Truth: $32.95 Error: $42.04 SLE: 0.65 Item: Av-jefes Tcm141ll35 Lavalier Microphone ...\u001b[0m\n",
      "\u001b[92m34: Guess: $7.00 Truth: $7.00 Error: $0.00 SLE: 0.00 Item: Liroyal Blue Single-handed Guitar Capo Q...\u001b[0m\n",
      "\u001b[91m35: Guess: $0.00 Truth: $120.00 Error: $120.00 SLE: 23.00 Item: Hall Crystal Flute 12203 - Inline Glass ...\u001b[0m\n",
      "\u001b[92m36: Guess: $47.00 Truth: $14.99 Error: $32.01 SLE: 1.21 Item: Halloween Pumpkin Ghost and Skull Dishwa...\u001b[0m\n",
      "\u001b[92m37: Guess: $0.00 Truth: $22.50 Error: $22.50 SLE: 9.97 Item: Dianoo Milk Frothing Pitcher With Handle...\u001b[0m\n",
      "\u001b[92m38: Guess: $223.99 Truth: $223.99 Error: $0.00 SLE: 0.00 Item: Pearl Floor Tom (EXX1414F/C21)\u001b[0m\n",
      "\u001b[92m39: Guess: $29.99 Truth: $20.99 Error: $9.00 SLE: 0.12 Item: Aqua Fresh 4396701 Refrigerator Water Fi...\u001b[0m\n",
      "\u001b[93m40: Guess: $22.50 Truth: $64.90 Error: $42.40 SLE: 1.06 Item: LANDTONE Golden Overdrive Guitar Effects...\u001b[0m\n",
      "\u001b[93m41: Guess: $32.00 Truth: $98.00 Error: $66.00 SLE: 1.21 Item: Ebony Bawu Flute Ba Wu Pipe Woodwind Det...\u001b[0m\n",
      "\u001b[92m42: Guess: $199.99 Truth: $199.99 Error: $0.00 SLE: 0.00 Item: Guardian CG-020-DJ Hardshell Case, Jumbo...\u001b[0m\n",
      "\u001b[92m43: Guess: $42.99 Truth: $42.99 Error: $0.00 SLE: 0.00 Item: Gretsch Tooled Leather Vintage Style Gui...\u001b[0m\n",
      "\u001b[91m44: Guess: $47.99 Truth: $195.40 Error: $147.41 SLE: 1.93 Item: Empava Wall Mount Range Hood 30 Inch, Du...\u001b[0m\n",
      "\u001b[91m45: Guess: $47.22 Truth: $165.23 Error: $118.01 SLE: 1.53 Item: General Electric WB50T10043 Oven Control...\u001b[0m\n",
      "\u001b[92m46: Guess: $233.91 Truth: $233.91 Error: $0.00 SLE: 0.00 Item: ISP Technologies Decimator II G String N...\u001b[0m\n",
      "\u001b[92m47: Guess: $179.00 Truth: $179.00 Error: $0.00 SLE: 0.00 Item: 5 Burners Built-In Stove Top Gas Cooktop...\u001b[0m\n",
      "\u001b[92m48: Guess: $47.99 Truth: $69.99 Error: $22.00 SLE: 0.14 Item: SUDOTACK Karaoke Machine with Wireless M...\u001b[0m\n",
      "\u001b[91m49: Guess: $0.00 Truth: $199.95 Error: $199.95 SLE: 28.12 Item: Zildjian L80 Low Volume China Cymbal - 1...\u001b[0m\n",
      "\u001b[92m50: Guess: $0.00 Truth: $23.99 Error: $23.99 SLE: 10.36 Item: Froggy's Fog Halloween and Party Fog Flu...\u001b[0m\n",
      "\u001b[92m51: Guess: $21.99 Truth: $21.99 Error: $0.00 SLE: 0.00 Item: BOSS BMIDI-5-35 Type A 3.5mm TRS to Male...\u001b[0m\n",
      "\u001b[92m52: Guess: $10.99 Truth: $6.24 Error: $4.75 SLE: 0.25 Item: ABLEGRID AC Adapter Charger for Zoom G1 ...\u001b[0m\n",
      "\u001b[92m53: Guess: $12.99 Truth: $12.99 Error: $0.00 SLE: 0.00 Item: VOCOO Humidity Gauge Indoor Thermometer ...\u001b[0m\n",
      "\u001b[92m54: Guess: $24.99 Truth: $29.95 Error: $4.96 SLE: 0.03 Item: ACDC Angus Young Miniature Guitar, 1:4 S...\u001b[0m\n",
      "\u001b[92m55: Guess: $999.00 Truth: $999.00 Error: $0.00 SLE: 0.00 Item: Mojave Audio MA-301fet Large-diaphragm C...\u001b[0m\n",
      "\u001b[92m56: Guess: $6.99 Truth: $6.99 Error: $0.00 SLE: 0.00 Item: uxcell Straight Sliding Potentiometer Pu...\u001b[0m\n",
      "\u001b[92m57: Guess: $22.99 Truth: $21.99 Error: $1.00 SLE: 0.00 Item: InnoGear Mic Stand for Blue Yeti, Heavy ...\u001b[0m\n",
      "\u001b[92m58: Guess: $22.50 Truth: $31.14 Error: $8.64 SLE: 0.10 Item: Roosebeck Psaltery Bow Mongolian Horse H...\u001b[0m\n",
      "\u001b[92m59: Guess: $0.00 Truth: $29.44 Error: $29.44 SLE: 11.67 Item: BROAN-NUTONE 1379B Louvered Dryer Vent K...\u001b[0m\n",
      "\u001b[92m60: Guess: $979.00 Truth: $979.00 Error: $0.00 SLE: 0.00 Item: Seagull Coastline Momentum HG Acoustic-E...\u001b[0m\n",
      "\u001b[92m61: Guess: $11.98 Truth: $14.99 Error: $3.01 SLE: 0.04 Item: MUSIC FIRST Original Design “Fortune Cat...\u001b[0m\n",
      "\u001b[92m62: Guess: $124.62 Truth: $124.62 Error: $0.00 SLE: 0.00 Item: Blueridge BV-1012 Pro Tour Deluxe Dreadn...\u001b[0m\n",
      "\u001b[92m63: Guess: $39.99 Truth: $42.98 Error: $2.99 SLE: 0.00 Item: Elixir® Strings 16545 Acoustic Phosphor ...\u001b[0m\n",
      "\u001b[92m64: Guess: $24.99 Truth: $24.99 Error: $0.00 SLE: 0.00 Item: Supco ES9404 Surface Element Infinite Sw...\u001b[0m\n",
      "\u001b[92m65: Guess: $340.00 Truth: $340.00 Error: $0.00 SLE: 0.00 Item: Zoom G6 Guitar Multi-Effects Processor w...\u001b[0m\n",
      "\u001b[92m66: Guess: $22.50 Truth: $24.48 Error: $1.98 SLE: 0.01 Item: Musiclily Ultra Full Brass 40mm Tremolo ...\u001b[0m\n",
      "\u001b[91m67: Guess: $0.00 Truth: $199.95 Error: $199.95 SLE: 28.12 Item: Timpano TPT-3000EQ 2 Ohm Compact Amplifi...\u001b[0m\n",
      "\u001b[92m68: Guess: $39.99 Truth: $19.89 Error: $20.10 SLE: 0.45 Item: EAST TOP Harmonica, Diatonic blues harp ...\u001b[0m\n",
      "\u001b[92m69: Guess: $59.99 Truth: $59.99 Error: $0.00 SLE: 0.00 Item: BABY JOY 88 Keys Roll Up Piano, Upgraded...\u001b[0m\n",
      "\u001b[91m70: Guess: $99.99 Truth: $195.59 Error: $95.60 SLE: 0.44 Item: Starqueen karaoke machine Portable Karao...\u001b[0m\n",
      "\u001b[92m71: Guess: $47.22 Truth: $32.76 Error: $14.46 SLE: 0.13 Item: Bastien Piano Basics Level 1 Learning Se...\u001b[0m\n",
      "\u001b[92m72: Guess: $0.00 Truth: $6.99 Error: $6.99 SLE: 4.32 Item: Piano Keyboard Stickers for Beginner -Re...\u001b[0m\n",
      "\u001b[92m73: Guess: $9.88 Truth: $9.88 Error: $0.00 SLE: 0.00 Item: Harmonica 10 Holes 20 Tunes Mouth Organ ...\u001b[0m\n",
      "\u001b[92m74: Guess: $43.66 Truth: $38.83 Error: $4.83 SLE: 0.01 Item: Fender Ball Glove Leather Guitar Strap, ...\u001b[0m\n",
      "\u001b[92m75: Guess: $12.00 Truth: $12.00 Error: $0.00 SLE: 0.00 Item: Hodge Silk Bassoon Bocal Swab - Purple\u001b[0m\n",
      "\u001b[92m76: Guess: $49.00 Truth: $49.00 Error: $0.00 SLE: 0.00 Item: Toca DIDG-PK Bamboo Didgeridoo - Kangaro...\u001b[0m\n",
      "\u001b[91m77: Guess: $0.00 Truth: $569.99 Error: $569.99 SLE: 40.29 Item: PRORECK Club 3200 12-Inch 3000 Watt DJ/P...\u001b[0m\n",
      "\u001b[92m78: Guess: $7.99 Truth: $7.99 Error: $0.00 SLE: 0.00 Item: ShieldPro Humidity Indicator Card 10-Pac...\u001b[0m\n",
      "\u001b[92m79: Guess: $79.99 Truth: $79.99 Error: $0.00 SLE: 0.00 Item: LUXCEO 2Pack RGB Tube Light Bar with Lig...\u001b[0m\n",
      "\u001b[91m80: Guess: $11,105.00 Truth: $169.83 Error: $10,935.17 SLE: 17.43 Item: American Range A11105 Thermostat Electri...\u001b[0m\n",
      "\u001b[92m81: Guess: $22.22 Truth: $44.89 Error: $22.67 SLE: 0.46 Item: Graph Tech PRS String Saver Saddles (Set...\u001b[0m\n",
      "\u001b[92m82: Guess: $299.00 Truth: $299.00 Error: $0.00 SLE: 0.00 Item: Mahraja Musicals Dholak Drum, Profession...\u001b[0m\n",
      "\u001b[93m83: Guess: $0.00 Truth: $69.99 Error: $69.99 SLE: 18.17 Item: Juselove DJ Cable File Bag | Gig Bag wit...\u001b[0m\n",
      "\u001b[92m84: Guess: $69.99 Truth: $69.99 Error: $0.00 SLE: 0.00 Item: Meinl Percussion KA9WW-BK Wah Wah Effect...\u001b[0m\n",
      "\u001b[92m85: Guess: $69.99 Truth: $57.52 Error: $12.47 SLE: 0.04 Item: Hohner Student 26 Melodica - Black\u001b[0m\n",
      "\u001b[91m86: Guess: $47.99 Truth: $399.99 Error: $352.00 SLE: 4.42 Item: Peavey In Ear Monitor System\u001b[0m\n",
      "\u001b[92m87: Guess: $209.99 Truth: $209.99 Error: $0.00 SLE: 0.00 Item: Deep Freezer Chest Freezer WANAI 5.0 Cub...\u001b[0m\n",
      "\u001b[93m88: Guess: $47.22 Truth: $109.99 Error: $62.77 SLE: 0.69 Item: Hercules DJ DJ Control Mix, 2, Blue – Am...\u001b[0m\n",
      "\u001b[92m89: Guess: $699.00 Truth: $699.00 Error: $0.00 SLE: 0.00 Item: Gretsch G9201 Honey Dipper Metal,Gray,Ni...\u001b[0m\n",
      "\u001b[92m90: Guess: $11.95 Truth: $11.95 Error: $0.00 SLE: 0.00 Item: W10350376 Dishwasher Top Rack Adjuster U...\u001b[0m\n",
      "\u001b[91m91: Guess: $0.00 Truth: $399.99 Error: $399.99 SLE: 35.93 Item: Gretsch G2420 Streamliner Hollow Body 6-...\u001b[0m\n",
      "\u001b[92m92: Guess: $119.95 Truth: $119.95 Error: $0.00 SLE: 0.00 Item: PreSonus Eris E3.5 3.5\" 2-Way 25W Nearfi...\u001b[0m\n",
      "\u001b[92m93: Guess: $24.66 Truth: $27.44 Error: $2.78 SLE: 0.01 Item: Compatible Water Inlet Valve for General...\u001b[0m\n",
      "\u001b[91m94: Guess: $0.00 Truth: $279.99 Error: $279.99 SLE: 31.79 Item: COOLHOME 3.5 Cubic Feet Chest Freezer wi...\u001b[0m\n",
      "\u001b[92m95: Guess: $335.95 Truth: $335.95 Error: $0.00 SLE: 0.00 Item: Odyssey Case Rane One Flight Case with 1...\u001b[0m\n",
      "\u001b[92m96: Guess: $30.47 Truth: $17.99 Error: $12.48 SLE: 0.26 Item: Instrument Clinic Flute Pad Set, Email Y...\u001b[0m\n",
      "\u001b[91m97: Guess: $0.00 Truth: $499.99 Error: $499.99 SLE: 38.65 Item: Focusrite Scarlett 2i2 2x2 USB Audio Int...\u001b[0m\n",
      "\u001b[92m98: Guess: $36.97 Truth: $36.97 Error: $0.00 SLE: 0.00 Item: puxyblue 8531233 Dishwasher Silverware B...\u001b[0m\n",
      "\u001b[92m99: Guess: $13.19 Truth: $13.19 Error: $0.00 SLE: 0.00 Item: Melitta 620122 40 Count #1 Natural Brown...\u001b[0m\n",
      "\u001b[92m100: Guess: $699.00 Truth: $749.00 Error: $50.00 SLE: 0.00 Item: Orange Little Bass Thing 500w Solid Stat...\u001b[0m\n",
      "\u001b[91m101: Guess: $0.00 Truth: $256.44 Error: $256.44 SLE: 30.81 Item: Equator with Sensory Activated Pump\u001b[0m\n",
      "\u001b[92m102: Guess: $0.00 Truth: $3.99 Error: $3.99 SLE: 2.58 Item: GHS Strings H-T10 Tenor Ukulele Strings,...\u001b[0m\n",
      "\u001b[92m103: Guess: $13.99 Truth: $13.99 Error: $0.00 SLE: 0.00 Item: Misopily Removable Piano Keyboard Note L...\u001b[0m\n",
      "\u001b[91m104: Guess: $0.00 Truth: $119.99 Error: $119.99 SLE: 23.00 Item: KVKA Rainbow F Note Heart Chakra Quartz ...\u001b[0m\n",
      "\u001b[92m105: Guess: $22.99 Truth: $29.99 Error: $7.00 SLE: 0.07 Item: 8182634 WP8182634 Washing Machine Door L...\u001b[0m\n",
      "\u001b[92m106: Guess: $292.92 Truth: $292.92 Error: $0.00 SLE: 0.00 Item: RCA RFR283-STAINLESS 2.6 Cu. Ft. Refrige...\u001b[0m\n",
      "\u001b[92m107: Guess: $13.99 Truth: $13.99 Error: $0.00 SLE: 0.00 Item: TUOREN 5“ Jam Block Musical Percussion I...\u001b[0m\n",
      "\u001b[91m108: Guess: $47.22 Truth: $223.57 Error: $176.35 SLE: 2.37 Item: Frigidaire 316462878 Oven Control Board,...\u001b[0m\n",
      "\u001b[93m109: Guess: $22.50 Truth: $98.88 Error: $76.38 SLE: 2.09 Item: JD.Moon Electric Guitar Body for Fender ...\u001b[0m\n",
      "\u001b[92m110: Guess: $10.99 Truth: $9.06 Error: $1.93 SLE: 0.03 Item: Feeler Gauge Set, 30 Pcs Blade Master Fe...\u001b[0m\n",
      "\u001b[91m111: Guess: $0.00 Truth: $280.00 Error: $280.00 SLE: 31.79 Item: Intermetro RPHM20-2103 Blower\u001b[0m\n",
      "\u001b[93m112: Guess: $219.95 Truth: $329.99 Error: $110.04 SLE: 0.16 Item: Numark DXM01 USB DJ Mixer\u001b[0m\n",
      "\u001b[91m113: Guess: $0.00 Truth: $899.99 Error: $899.99 SLE: 46.29 Item: Mackie DL Series, Digital Wireless Live ...\u001b[0m\n",
      "\u001b[92m114: Guess: $79.95 Truth: $79.95 Error: $0.00 SLE: 0.00 Item: Primeco WH23X10020 Compatible Drain Pump...\u001b[0m\n",
      "\u001b[93m115: Guess: $99.99 Truth: $169.99 Error: $70.00 SLE: 0.28 Item: Soldin 40 Inch Acoustic Guitar Premium S...\u001b[0m\n",
      "\u001b[92m116: Guess: $332.50 Truth: $332.50 Error: $0.00 SLE: 0.00 Item: Carl Martin Bass Chorus Pedal\u001b[0m\n",
      "\u001b[92m117: Guess: $0.00 Truth: $21.99 Error: $21.99 SLE: 9.83 Item: DA97-12942A Water Dispenser Cover Replac...\u001b[0m\n",
      "\u001b[91m118: Guess: $0.00 Truth: $212.25 Error: $212.25 SLE: 28.76 Item: Fender Pro Series Precision Bass/Jazz Ba...\u001b[0m\n",
      "\u001b[92m119: Guess: $47.99 Truth: $27.99 Error: $20.00 SLE: 0.28 Item: Egg Holder for Refrigerator - Deviled Eg...\u001b[0m\n",
      "\u001b[92m120: Guess: $8.99 Truth: $12.99 Error: $4.00 SLE: 0.11 Item: Jiayouy 15 Inch Music Baton Orchestra Ba...\u001b[0m\n",
      "\u001b[92m121: Guess: $255.00 Truth: $255.00 Error: $0.00 SLE: 0.00 Item: Korg, 64-Key Midi Controller (SQ-64)\u001b[0m\n",
      "\u001b[92m122: Guess: $118.15 Truth: $118.15 Error: $0.00 SLE: 0.00 Item: Manitowoc Ice 4011149 Water Curtain\u001b[0m\n",
      "\u001b[92m123: Guess: $22.99 Truth: $24.59 Error: $1.60 SLE: 0.00 Item: Waterdrop 4396701 Replacement for Whirlp...\u001b[0m\n",
      "\u001b[92m124: Guess: $18.49 Truth: $18.49 Error: $0.00 SLE: 0.00 Item: Geesatis 1 Pair Accordion Shoulder Strap...\u001b[0m\n",
      "\u001b[92m125: Guess: $69.99 Truth: $99.99 Error: $30.00 SLE: 0.12 Item: Wireless Lavalier Microphone, Lapel Micr...\u001b[0m\n",
      "\u001b[92m126: Guess: $26.99 Truth: $26.99 Error: $0.00 SLE: 0.00 Item: Huang H103C Silvertone Harmonica - Key o...\u001b[0m\n",
      "\u001b[91m127: Guess: $0.00 Truth: $205.00 Error: $205.00 SLE: 28.39 Item: Super-Softie Kit 416, Super-Softie and L...\u001b[0m\n",
      "\u001b[92m128: Guess: $14.99 Truth: $14.99 Error: $0.00 SLE: 0.00 Item: 134587700 Dryer Control Thermistor Repla...\u001b[0m\n",
      "\u001b[92m129: Guess: $5.99 Truth: $3.69 Error: $2.30 SLE: 0.16 Item: 10pcs Aluminum Foil Square/Round Stove C...\u001b[0m\n",
      "\u001b[92m130: Guess: $503.30 Truth: $503.30 Error: $0.00 SLE: 0.00 Item: Alesis Drums Surge Mesh SE Kit - Electri...\u001b[0m\n",
      "\u001b[92m131: Guess: $23.99 Truth: $23.99 Error: $0.00 SLE: 0.00 Item: iDiskk 【Plug-Play with 2 Clips】 iPhone i...\u001b[0m\n",
      "\u001b[92m132: Guess: $32.00 Truth: $15.90 Error: $16.10 SLE: 0.45 Item: GENUINE Frigidaire 134503600 Drum Belt f...\u001b[0m\n",
      "\u001b[92m133: Guess: $239.95 Truth: $239.95 Error: $0.00 SLE: 0.00 Item: Samson Concert 88 Camera Lavalier UHF Wi...\u001b[0m\n",
      "\u001b[92m134: Guess: $35.99 Truth: $35.99 Error: $0.00 SLE: 0.00 Item: W10518394 W10134009 Dishwasher Heating E...\u001b[0m\n",
      "\u001b[92m135: Guess: $22.50 Truth: $7.80 Error: $14.70 SLE: 0.96 Item: Zetiling Mini Harmonica, Harmonica Key, ...\u001b[0m\n",
      "\u001b[92m136: Guess: $199.99 Truth: $199.99 Error: $0.00 SLE: 0.00 Item: Vertex Ultraphonix HRM Overdrive (Hot Ro...\u001b[0m\n",
      "\u001b[92m137: Guess: $37.99 Truth: $34.99 Error: $3.00 SLE: 0.01 Item: UPGRADED Lifetime Appliance DA97-11478A ...\u001b[0m\n",
      "\u001b[92m138: Guess: $339.98 Truth: $339.98 Error: $0.00 SLE: 0.00 Item: Winflo 36 In. Ducted Stainless Steel Und...\u001b[0m\n",
      "\u001b[92m139: Guess: $0.00 Truth: $16.99 Error: $16.99 SLE: 8.35 Item: Upstart Battery 4-Pack Replacement for B...\u001b[0m\n",
      "\u001b[92m140: Guess: $37.99 Truth: $37.99 Error: $0.00 SLE: 0.00 Item: W10780051 Washer Suspension Kit Compatib...\u001b[0m\n",
      "\u001b[92m141: Guess: $39.99 Truth: $29.99 Error: $10.00 SLE: 0.08 Item: AC Power Supply Power Adapter for Samsun...\u001b[0m\n",
      "\u001b[91m142: Guess: $0.00 Truth: $160.65 Error: $160.65 SLE: 25.86 Item: Saniserv 70125-01 4 Pole Contactor, 230-...\u001b[0m\n",
      "\u001b[91m143: Guess: $0.00 Truth: $153.99 Error: $153.99 SLE: 25.44 Item: NEW! CHAUVET DERBY X RGB DMX Pro DJ Club...\u001b[0m\n",
      "\u001b[92m144: Guess: $22.99 Truth: $13.91 Error: $9.08 SLE: 0.23 Item: HQRP 2-Pack Wick Filter Compatible with ...\u001b[0m\n",
      "\u001b[92m145: Guess: $49.77 Truth: $84.91 Error: $35.14 SLE: 0.28 Item: Compatible Refrigerator Icemaker for Whi...\u001b[0m\n",
      "\u001b[92m146: Guess: $15.99 Truth: $15.99 Error: $0.00 SLE: 0.00 Item: Woodi USA 21\" Ukulele Gig Bag WUC-21BF P...\u001b[0m\n",
      "\u001b[92m147: Guess: $79.49 Truth: $79.49 Error: $0.00 SLE: 0.00 Item: MI&VI Super Lightweight 3.0lb Sturdy Vio...\u001b[0m\n",
      "\u001b[92m148: Guess: $22.99 Truth: $25.00 Error: $2.01 SLE: 0.01 Item: Supplying Demand WB13K21 WB13K0012 Gas R...\u001b[0m\n",
      "\u001b[91m149: Guess: $0.00 Truth: $149.99 Error: $149.99 SLE: 25.17 Item: Phenyx Pro Wireless Microphone System, D...\u001b[0m\n",
      "\u001b[92m150: Guess: $22.99 Truth: $9.69 Error: $13.30 SLE: 0.65 Item: Bass Guitar Chords Chart 4-String Guitar...\u001b[0m\n",
      "\u001b[91m151: Guess: $47.99 Truth: $144.98 Error: $96.99 SLE: 1.19 Item: BOSS MT-2W WAZA Craft Metal Zone Guitar ...\u001b[0m\n",
      "\u001b[92m152: Guess: $9.99 Truth: $9.99 Error: $0.00 SLE: 0.00 Item: Tech Drive Vent Louvered Outdoor Dryer V...\u001b[0m\n",
      "\u001b[92m153: Guess: $13.66 Truth: $10.90 Error: $2.76 SLE: 0.04 Item: AW Pack of 2 Replacement Stylus Turntabl...\u001b[0m\n",
      "\u001b[92m154: Guess: $41.37 Truth: $41.37 Error: $0.00 SLE: 0.00 Item: ZIGGURAT PRODUCTS Cinch Tight 90 (2 Pack...\u001b[0m\n",
      "\u001b[92m155: Guess: $47.95 Truth: $24.20 Error: $23.75 SLE: 0.44 Item: Sky Flute Case (SKYVUFLW-BL)\u001b[0m\n",
      "\u001b[92m156: Guess: $22.50 Truth: $61.79 Error: $39.29 SLE: 0.97 Item: Alliance Laundry Systems 203885 Drain Pu...\u001b[0m\n",
      "\u001b[92m157: Guess: $13.97 Truth: $13.97 Error: $0.00 SLE: 0.00 Item: 134813600 Dryer Door Switch by DTAIR Rep...\u001b[0m\n",
      "\u001b[92m158: Guess: $199.95 Truth: $199.95 Error: $0.00 SLE: 0.00 Item: Sennheiser E935 Dynamic Microphone (Rest...\u001b[0m\n",
      "\u001b[92m159: Guess: $16.99 Truth: $16.99 Error: $0.00 SLE: 0.00 Item: 2-Pack W10350375 Dishwasher Top Rack Adj...\u001b[0m\n",
      "\u001b[92m160: Guess: $5.99 Truth: $5.99 Error: $0.00 SLE: 0.00 Item: Mxfans White 2 in 1 Bone Bridge Saddle N...\u001b[0m\n",
      "\u001b[92m161: Guess: $0.00 Truth: $20.99 Error: $20.99 SLE: 9.55 Item: 2-Pack Replacement for Home Depot HDX FM...\u001b[0m\n",
      "\u001b[92m162: Guess: $149.99 Truth: $149.99 Error: $0.00 SLE: 0.00 Item: Mackie THUMP Series, Rolling Speaker Bag...\u001b[0m\n",
      "\u001b[93m163: Guess: $127.22 Truth: $175.66 Error: $48.44 SLE: 0.10 Item: VocoPro (VHF4000\u001b[0m\n",
      "\u001b[92m164: Guess: $243.59 Truth: $243.59 Error: $0.00 SLE: 0.00 Item: Fostex 6301NB Powered Active Monitor (Si...\u001b[0m\n",
      "\u001b[92m165: Guess: $69.99 Truth: $59.00 Error: $10.99 SLE: 0.03 Item: Ledwholesalers 5 Meter Reel Warm White 2...\u001b[0m\n",
      "\u001b[91m166: Guess: $0.00 Truth: $264.60 Error: $264.60 SLE: 31.16 Item: Quick Lok SL-930 Fully Adjustable Double...\u001b[0m\n",
      "\u001b[93m167: Guess: $0.00 Truth: $44.99 Error: $44.99 SLE: 14.66 Item: Pyle Portable Bluetooth PA Speaker - 200...\u001b[0m\n",
      "\u001b[92m168: Guess: $50.95 Truth: $55.00 Error: $4.05 SLE: 0.01 Item: GENUINE Whirlpool W10905734 Cooking Prod...\u001b[0m\n",
      "\u001b[92m169: Guess: $0.00 Truth: $25.99 Error: $25.99 SLE: 10.86 Item: FireFly Home Stove Top Protector for Gen...\u001b[0m\n",
      "\u001b[92m170: Guess: $26.59 Truth: $26.59 Error: $0.00 SLE: 0.00 Item: SUNMON Boom Arm for HyperX QuadCast with...\u001b[0m\n",
      "\u001b[92m171: Guess: $59.97 Truth: $59.97 Error: $0.00 SLE: 0.00 Item: Prodipe PRO-580 Professional Headphones\u001b[0m\n",
      "\u001b[92m172: Guess: $24.91 Truth: $24.91 Error: $0.00 SLE: 0.00 Item: HQRP 2-pack Filter Kit (HEPA+ Foam & Fel...\u001b[0m\n",
      "\u001b[92m173: Guess: $22.99 Truth: $22.99 Error: $0.00 SLE: 0.00 Item: Cympad OSSP Cympad Optimizer Starter Pac...\u001b[0m\n",
      "\u001b[92m174: Guess: $10.99 Truth: $18.99 Error: $8.00 SLE: 0.26 Item: TT FLEX Steam Dryer Hose Installation Ki...\u001b[0m\n",
      "\u001b[92m175: Guess: $17.99 Truth: $17.99 Error: $0.00 SLE: 0.00 Item: Egg Holder Countertop for Refrigerator (...\u001b[0m\n",
      "\u001b[92m176: Guess: $22.22 Truth: $6.08 Error: $16.14 SLE: 1.41 Item: JR Products 00235 Vent Latch - Thin Wall\u001b[0m\n",
      "\u001b[91m177: Guess: $0.00 Truth: $199.00 Error: $199.00 SLE: 28.07 Item: Behringer CAT Legendary Paraphonic Analo...\u001b[0m\n",
      "\u001b[91m178: Guess: $0.00 Truth: $249.00 Error: $249.00 SLE: 30.49 Item: Ibanez 6 String Classical Guitar, Right,...\u001b[0m\n",
      "\u001b[92m179: Guess: $22.22 Truth: $31.95 Error: $9.73 SLE: 0.12 Item: D'Addario Leather Guitar Strap - Guitar ...\u001b[0m\n",
      "\u001b[92m180: Guess: $22.99 Truth: $24.99 Error: $2.00 SLE: 0.01 Item: RIMLUFE slinky electric guitar strings 9...\u001b[0m\n",
      "\u001b[92m181: Guess: $0.00 Truth: $29.95 Error: $29.95 SLE: 11.78 Item: Cara & Co Professional Plastic Red GlocK...\u001b[0m\n",
      "\u001b[92m182: Guess: $22.99 Truth: $11.99 Error: $11.00 SLE: 0.38 Item: MUSCELL Maracas Percussion Noise Makers ...\u001b[0m\n",
      "\u001b[92m183: Guess: $47.22 Truth: $29.99 Error: $17.23 SLE: 0.20 Item: Upgraded W10648041 W1117577 Dishwasher W...\u001b[0m\n",
      "\u001b[92m184: Guess: $22.99 Truth: $39.95 Error: $16.96 SLE: 0.29 Item: Eliminator Lighting LED Lighting (E107US...\u001b[0m\n",
      "\u001b[92m185: Guess: $199.99 Truth: $179.99 Error: $20.00 SLE: 0.01 Item: Portable Twin Tub Mini Washing Machine w...\u001b[0m\n",
      "\u001b[92m186: Guess: $36.95 Truth: $36.95 Error: $0.00 SLE: 0.00 Item: Hosa Ebu-025 AES/Ebu Cable 25 Feet\u001b[0m\n",
      "\u001b[92m187: Guess: $10.99 Truth: $10.99 Error: $0.00 SLE: 0.00 Item: Filters Fast D09-C Compatible Replacemen...\u001b[0m\n",
      "\u001b[92m188: Guess: $459.99 Truth: $459.99 Error: $0.00 SLE: 0.00 Item: Meinl Cymbals B20MC-B Byzance 20-Inch Br...\u001b[0m\n",
      "\u001b[91m189: Guess: $0.00 Truth: $249.00 Error: $249.00 SLE: 30.49 Item: Vinyl Piano Cover -Yamaha C7-7\"6\" Newer ...\u001b[0m\n",
      "\u001b[92m190: Guess: $5.43 Truth: $11.05 Error: $5.62 SLE: 0.39 Item: LG 3W20018B\u001b[0m\n",
      "\u001b[92m191: Guess: $47.00 Truth: $24.99 Error: $22.01 SLE: 0.38 Item: MSP-240-11.5\" x 13.75\" Large Sheet Music...\u001b[0m\n",
      "\u001b[92m192: Guess: $0.00 Truth: $25.89 Error: $25.89 SLE: 10.84 Item: MILISTEN 23 Inch Classic 6- string folk ...\u001b[0m\n",
      "\u001b[91m193: Guess: $0.00 Truth: $89.99 Error: $89.99 SLE: 20.35 Item: Pyle Professional Audio Mixer Sound Boar...\u001b[0m\n",
      "\u001b[91m194: Guess: $0.00 Truth: $169.99 Error: $169.99 SLE: 26.44 Item: Friedman Amplification Buffer Bay 6 Ultr...\u001b[0m\n",
      "\u001b[92m195: Guess: $179.00 Truth: $174.10 Error: $4.90 SLE: 0.00 Item: Bunn 29084.0000 115-volt Condenser Fan A...\u001b[0m\n",
      "\u001b[92m196: Guess: $32.76 Truth: $32.76 Error: $0.00 SLE: 0.00 Item: Piano Adventures Level 2A Learning Libra...\u001b[0m\n",
      "\u001b[92m197: Guess: $0.00 Truth: $10.99 Error: $10.99 SLE: 6.17 Item: Replacement for MSD2351HEB Refrigerator ...\u001b[0m\n",
      "\u001b[92m198: Guess: $33.47 Truth: $33.99 Error: $0.52 SLE: 0.00 Item: D'Addario Guitar Strings - NYXL Electric...\u001b[0m\n",
      "\u001b[92m199: Guess: $0.00 Truth: $15.99 Error: $15.99 SLE: 8.02 Item: Crosby TuneMate Electronic Clip On Chrom...\u001b[0m\n",
      "\u001b[92m200: Guess: $0.00 Truth: $32.99 Error: $32.99 SLE: 12.43 Item: Yibuy 9# Silver Jazz Tenor Saxophone Mou...\u001b[0m\n",
      "\u001b[92m201: Guess: $23.87 Truth: $23.87 Error: $0.00 SLE: 0.00 Item: Egg Holder for Refrigerator 36 Count, Fr...\u001b[0m\n",
      "\u001b[92m202: Guess: $5.47 Truth: $5.39 Error: $0.08 SLE: 0.00 Item: Musiclily Metal Guitar Strap Buttons End...\u001b[0m\n",
      "\u001b[92m203: Guess: $0.00 Truth: $21.95 Error: $21.95 SLE: 9.82 Item: Elixir Strings 8-String Electric Guitar ...\u001b[0m\n",
      "\u001b[92m204: Guess: $104.99 Truth: $104.99 Error: $0.00 SLE: 0.00 Item: Auralex 4 inch CornerFill 4x24 inch Acou...\u001b[0m\n",
      "\u001b[92m205: Guess: $8.59 Truth: $8.59 Error: $0.00 SLE: 0.00 Item: KAISH Clear ST/Strat Style Standard Guit...\u001b[0m\n",
      "\u001b[92m206: Guess: $14.99 Truth: $14.99 Error: $0.00 SLE: 0.00 Item: Coorganisers Large Capacity Egg Holder f...\u001b[0m\n",
      "\u001b[92m207: Guess: $119.71 Truth: $119.71 Error: $0.00 SLE: 0.00 Item: Crossrock ABS Molded Alto Saxophone Case...\u001b[0m\n",
      "\u001b[92m208: Guess: $99.00 Truth: $129.99 Error: $30.99 SLE: 0.07 Item: Alesis Surge/Command 10 Inch Cymbal with...\u001b[0m\n",
      "\u001b[92m209: Guess: $24.66 Truth: $29.59 Error: $4.93 SLE: 0.03 Item: 241639502 Condenser Fan Motor Blade - Co...\u001b[0m\n",
      "\u001b[92m210: Guess: $439.00 Truth: $439.00 Error: $0.00 SLE: 0.00 Item: Brand New Bb/F Tenor Trombone w/Case and...\u001b[0m\n",
      "\u001b[92m211: Guess: $47.22 Truth: $38.10 Error: $9.12 SLE: 0.04 Item: Jim Dunlop Stealth Series Instrument Cab...\u001b[0m\n",
      "\u001b[92m212: Guess: $0.00 Truth: $27.22 Error: $27.22 SLE: 11.16 Item: Wall cap fits 3” or 4” round duct includ...\u001b[0m\n",
      "\u001b[92m213: Guess: $0.00 Truth: $39.52 Error: $39.52 SLE: 13.70 Item: BrassCraft CSSC4J-12 ProCoat 1/2\" MIP x ...\u001b[0m\n",
      "\u001b[92m214: Guess: $8.95 Truth: $9.99 Error: $1.04 SLE: 0.01 Item: Jiozermi Black Semi-closed Guitar Tuners...\u001b[0m\n",
      "\u001b[92m215: Guess: $382.51 Truth: $382.51 Error: $0.00 SLE: 0.00 Item: Lanikai, 4-String Ukulele, Sand,Blue,Chr...\u001b[0m\n",
      "\u001b[92m216: Guess: $145.51 Truth: $145.51 Error: $0.00 SLE: 0.00 Item: Stagg GCX-LP Deluxe Tweed Hard Case for ...\u001b[0m\n",
      "\u001b[92m217: Guess: $29.99 Truth: $34.99 Error: $5.00 SLE: 0.02 Item: Supplying Demand W10420083 2118775 Refri...\u001b[0m\n",
      "\u001b[92m218: Guess: $6.99 Truth: $6.99 Error: $0.00 SLE: 0.00 Item: Upstart Battery Replacement HWF64 Filter...\u001b[0m\n",
      "\u001b[92m219: Guess: $961.00 Truth: $961.00 Error: $0.00 SLE: 0.00 Item: Bam France 1001SW Classic Peony Red 4/4 ...\u001b[0m\n",
      "\u001b[92m220: Guess: $22.99 Truth: $22.99 Error: $0.00 SLE: 0.00 Item: PDP By DW\u001b[0m\n",
      "\u001b[92m221: Guess: $0.00 Truth: $8.99 Error: $8.99 SLE: 5.30 Item: Jiayouy Removable Counterweight 12g Moun...\u001b[0m\n",
      "\u001b[92m222: Guess: $3.55 Truth: $3.55 Error: $0.00 SLE: 0.00 Item: Hosa GPM-179 3.5 mm TRS to 1/4\" TS Adapt...\u001b[0m\n",
      "\u001b[92m223: Guess: $47.22 Truth: $39.99 Error: $7.23 SLE: 0.03 Item: Latin Percussion LP397 Lugger Bracket\u001b[0m\n",
      "\u001b[91m224: Guess: $0.00 Truth: $357.46 Error: $357.46 SLE: 34.60 Item: Blackmore Pro Audio Party Speakers, Blac...\u001b[0m\n",
      "\u001b[92m225: Guess: $179.00 Truth: $179.00 Error: $0.00 SLE: 0.00 Item: Shure SM63L Omnidirectional Dynamic Voca...\u001b[0m\n",
      "\u001b[92m226: Guess: $47.22 Truth: $39.99 Error: $7.23 SLE: 0.03 Item: W11130362 Washer Suspension Kit W1113036...\u001b[0m\n",
      "\u001b[92m227: Guess: $0.00 Truth: $39.99 Error: $39.99 SLE: 13.79 Item: Supplying Demand 5304506427 316103802 Ga...\u001b[0m\n",
      "\u001b[92m228: Guess: $10.49 Truth: $15.95 Error: $5.46 SLE: 0.15 Item: Hosa GTR-215 Straight to Straight Guitar...\u001b[0m\n",
      "\u001b[92m229: Guess: $168.46 Truth: $168.46 Error: $0.00 SLE: 0.00 Item: Seymour Duncan Pegasus 7-String Active M...\u001b[0m\n",
      "\u001b[92m230: Guess: $0.00 Truth: $16.99 Error: $16.99 SLE: 8.35 Item: Ponovo Wireless Lavalier Microphone Comp...\u001b[0m\n",
      "\u001b[93m231: Guess: $0.00 Truth: $79.98 Error: $79.98 SLE: 19.31 Item: Shure RPM626 In-Line Microphone Preampli...\u001b[0m\n",
      "\u001b[92m232: Guess: $66.68 Truth: $66.68 Error: $0.00 SLE: 0.00 Item: Whirlpool 2221946W Door\u001b[0m\n",
      "\u001b[92m233: Guess: $10.99 Truth: $15.95 Error: $4.96 SLE: 0.12 Item: NationInFashion 3 PACK Guitar Picks with...\u001b[0m\n",
      "\u001b[91m234: Guess: $0.00 Truth: $894.99 Error: $894.99 SLE: 46.21 Item: Casio PX-780 Privia 88-Key Digital Home ...\u001b[0m\n",
      "\u001b[92m235: Guess: $8.41 Truth: $8.41 Error: $0.00 SLE: 0.00 Item: Ultra Durable 9758079 Range Spark Ignite...\u001b[0m\n",
      "\u001b[92m236: Guess: $47.99 Truth: $69.99 Error: $22.00 SLE: 0.14 Item: iHome Karaoke Machine Wireless Bluetooth...\u001b[0m\n",
      "\u001b[92m237: Guess: $347.14 Truth: $347.14 Error: $0.00 SLE: 0.00 Item: Heil Sound PR40 Large Diameter Dynamic C...\u001b[0m\n",
      "\u001b[92m238: Guess: $73.99 Truth: $73.99 Error: $0.00 SLE: 0.00 Item: Supplying Demand 5304518660 316455400 El...\u001b[0m\n",
      "\u001b[92m239: Guess: $0.00 Truth: $10.82 Error: $10.82 SLE: 6.10 Item: Whirlpool 8537982 Pad Washer\u001b[0m\n",
      "\u001b[91m240: Guess: $289.00 Truth: $65.00 Error: $224.00 SLE: 2.19 Item: HoKEMA Sansula, Natural (12SANT)\u001b[0m\n",
      "\u001b[93m241: Guess: $74.99 Truth: $32.99 Error: $42.00 SLE: 0.65 Item: TroyStudio Portable Sound Recording Voca...\u001b[0m\n",
      "\u001b[92m242: Guess: $69.99 Truth: $59.99 Error: $10.00 SLE: 0.02 Item: Latin Percussion ES-9 Salsa Deep Hand Be...\u001b[0m\n",
      "\u001b[92m243: Guess: $0.00 Truth: $22.14 Error: $22.14 SLE: 9.87 Item: FLEOR Set of 11 Holes Electric Guitar Pi...\u001b[0m\n",
      "\u001b[91m244: Guess: $0.00 Truth: $446.59 Error: $446.59 SLE: 37.26 Item: ADJ Products Entour Snow Machine, Profes...\u001b[0m\n",
      "\u001b[92m245: Guess: $30.47 Truth: $31.45 Error: $0.98 SLE: 0.00 Item: 10' FT 3-PIN XLR MIC PATCH CABLE CORDS 3...\u001b[0m\n",
      "\u001b[92m246: Guess: $4.99 Truth: $4.99 Error: $0.00 SLE: 0.00 Item: Levy's Leathers Orange Stretchy Rubber G...\u001b[0m\n",
      "\u001b[92m247: Guess: $10.99 Truth: $25.99 Error: $15.00 SLE: 0.66 Item: FireFly Home Stove Top Protector for LG ...\u001b[0m\n",
      "\u001b[92m248: Guess: $259.00 Truth: $259.00 Error: $0.00 SLE: 0.00 Item: Maxon 9-Series Dbx Compressor\u001b[0m\n",
      "\u001b[92m249: Guess: $89.00 Truth: $89.90 Error: $0.90 SLE: 0.00 Item: MOOER SHIMVERB PRO TWIN PEDAL\u001b[0m\n",
      "\u001b[91m250: Guess: $0.00 Truth: $899.00 Error: $899.00 SLE: 46.27 Item: Electro-Voice ZXA1SUB 12\" Compact Powere...\u001b[0m\n"
     ]
    },
    {
     "data": {
      "image/png": "[encoded data removed]",
      "text/plain": [
       "<Figure size 1200x800 with 1 Axes>"
      ]
     },
     "metadata": {},
     "output_type": "display_data"
    }
   ],
   "source": [
    "Tester.test(gpt_fine_tuned, test)"
   ]
  }
 ],
 "metadata": {
  "kernelspec": {
   "display_name": "venv",
   "language": "python",
   "name": "python3"
  },
  "language_info": {
   "codemirror_mode": {
    "name": "ipython",
    "version": 3
   },
   "file_extension": ".py",
   "mimetype": "text/x-python",
   "name": "python",
   "nbconvert_exporter": "python",
   "pygments_lexer": "ipython3",
   "version": "3.12.4"
  }
 },
 "nbformat": 4,
 "nbformat_minor": 2
}
