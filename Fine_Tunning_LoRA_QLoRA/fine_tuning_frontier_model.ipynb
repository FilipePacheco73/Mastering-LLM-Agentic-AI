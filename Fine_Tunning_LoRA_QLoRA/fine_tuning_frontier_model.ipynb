{
 "cells": [
  {
   "cell_type": "markdown",
   "metadata": {},
   "source": [
    "# 1 Imports"
   ]
  },
  {
   "cell_type": "code",
   "execution_count": 1,
   "metadata": {},
   "outputs": [],
   "source": [
    "# imports\n",
    "\n",
    "import os\n",
    "import re\n",
    "import json\n",
    "import math\n",
    "import random\n",
    "from dotenv import load_dotenv\n",
    "from huggingface_hub import login\n",
    "from datasets import load_dataset, Dataset, DatasetDict\n",
    "from items import Item\n",
    "import matplotlib.pyplot as plt\n",
    "import pickle\n",
    "from collections import Counter\n",
    "from openai import OpenAI"
   ]
  },
  {
   "cell_type": "code",
   "execution_count": 2,
   "metadata": {},
   "outputs": [],
   "source": [
    "# Call it with Tester.test(function_name, *args)\n",
    "\n",
    "from testing import Tester"
   ]
  },
  {
   "cell_type": "markdown",
   "metadata": {},
   "source": [
    "# 2 Connect to OpenAI & HuggingFace"
   ]
  },
  {
   "cell_type": "code",
   "execution_count": 3,
   "metadata": {},
   "outputs": [],
   "source": [
    "# Load environment variables in a file called .env\n",
    "\n",
    "load_dotenv()\n",
    "api_key = os.getenv('OPEN_API_KEY')\n",
    "openai = OpenAI()"
   ]
  },
  {
   "cell_type": "code",
   "execution_count": 4,
   "metadata": {},
   "outputs": [
    {
     "name": "stderr",
     "output_type": "stream",
     "text": [
      "Note: Environment variable`HF_TOKEN` is set and is the current active token independently from the token you've just configured.\n"
     ]
    }
   ],
   "source": [
    "# Load environment variables in a file called .env\n",
    "\n",
    "load_dotenv()\n",
    "hf_token = os.getenv('HF_TOKEN')\n",
    "login(hf_token, add_to_git_credential=True)"
   ]
  },
  {
   "cell_type": "markdown",
   "metadata": {},
   "source": [
    "# 3 Load Dataset"
   ]
  },
  {
   "cell_type": "code",
   "execution_count": 5,
   "metadata": {},
   "outputs": [],
   "source": [
    "with open('train.pkl', 'rb') as file:\n",
    "    train = pickle.load(file)\n",
    "\n",
    "with open('test.pkl', 'rb') as file:\n",
    "    test = pickle.load(file)"
   ]
  },
  {
   "cell_type": "markdown",
   "metadata": {},
   "source": [
    "# 4 Fine-Tunning Preparation"
   ]
  },
  {
   "cell_type": "markdown",
   "metadata": {},
   "source": [
    "## 4.1 Data Selection"
   ]
  },
  {
   "cell_type": "code",
   "execution_count": 6,
   "metadata": {},
   "outputs": [],
   "source": [
    "fine_tune_train = train[:500]\n",
    "fine_tune_validation = train[500:1000]"
   ]
  },
  {
   "cell_type": "markdown",
   "metadata": {},
   "source": [
    "## 4.2 JSONL Preparation"
   ]
  },
  {
   "cell_type": "code",
   "execution_count": 7,
   "metadata": {},
   "outputs": [],
   "source": [
    "# Create a good prompt for the model\n",
    "\n",
    "def message_for(item):\n",
    "    system_message = \"You estimate prices of items. Reply only with the price, no explanation\"\n",
    "    user_prompt = item.test_prompt().replace(\" to the nearest dollar\", \"\").replace(\"\\n\\nPrice is $\", \"\")\n",
    "    return [\n",
    "        {\"role\": \"system\", \"content\": system_message},\n",
    "        {\"role\": \"user\", \"content\": user_prompt},\n",
    "        {\"role\": \"assistant\", \"content\": f\"Price is $ {item.price:.2f}\"}\n",
    "    ]"
   ]
  },
  {
   "cell_type": "code",
   "execution_count": 8,
   "metadata": {},
   "outputs": [
    {
     "name": "stdout",
     "output_type": "stream",
     "text": [
      "[{'role': 'system', 'content': 'You estimate prices of items. Reply only with the price, no explanation'}, {'role': 'user', 'content': 'How much does this cost?\\n\\nAMSUNBO Brand Musical Instruments Crystal Singing Bowl A Note Third Eye Chakra 8 inch with Free Suede Striker and O ring\\nBrand AMSUNBO Size 8 inch/ 20cm The Power of Crystal Singing Bowls “ Quartz is a vibrational transmitter” Wilson says. “We’re water . We are a perfect receptor for this kind of information.” Consider how running your finger around the edge of a crystal glass full of water makes it ring and the water itself shift. Because we are about 65–70% water, we react to the sound of the crystal bowls similarly, as their vibration penetrates into us. How to Play Quartz Crystal Singing Bowls Place the AMSUNBO crystal singing bowl symmetrically on its rubber o ring. Run the suede or'}, {'role': 'assistant', 'content': 'Price is $ 89.99'}]\n"
     ]
    }
   ],
   "source": [
    "print(message_for(train[0]))"
   ]
  },
  {
   "cell_type": "code",
   "execution_count": 9,
   "metadata": {},
   "outputs": [],
   "source": [
    "# Convert the items into a list of json objects - 'jsonl' string\n",
    "\n",
    "def make_jsonl(items):\n",
    "    result = ''\n",
    "    for item in items:\n",
    "        messages = message_for(item)\n",
    "        messages_str = json.dumps(messages)\n",
    "        result += '{\"messages\": ' + messages_str + '}\\n'\n",
    "    return result.strip()"
   ]
  },
  {
   "cell_type": "code",
   "execution_count": 10,
   "metadata": {},
   "outputs": [
    {
     "name": "stdout",
     "output_type": "stream",
     "text": [
      "{\"messages\": [{\"role\": \"system\", \"content\": \"You estimate prices of items. Reply only with the price, no explanation\"}, {\"role\": \"user\", \"content\": \"How much does this cost?\\n\\nAMSUNBO Brand Musical Instruments Crystal Singing Bowl A Note Third Eye Chakra 8 inch with Free Suede Striker and O ring\\nBrand AMSUNBO Size 8 inch/ 20cm The Power of Crystal Singing Bowls \\u201c Quartz is a vibrational transmitter\\u201d Wilson says. \\u201cWe\\u2019re water . We are a perfect receptor for this kind of information.\\u201d Consider how running your finger around the edge of a crystal glass full of water makes it ring and the water itself shift. Because we are about 65\\u201370% water, we react to the sound of the crystal bowls similarly, as their vibration penetrates into us. How to Play Quartz Crystal Singing Bowls Place the AMSUNBO crystal singing bowl symmetrically on its rubber o ring. Run the suede or\"}, {\"role\": \"assistant\", \"content\": \"Price is $ 89.99\"}]}\n",
      "{\"messages\": [{\"role\": \"system\", \"content\": \"You estimate prices of items. Reply only with the price, no explanation\"}, {\"role\": \"user\", \"content\": \"How much does this cost?\\n\\nPaganini 24 Caprices, Op. 1\\nPaganini, Capricci op. 1 / 24 Contradanze Inglesi for Violin solo DetailsEdition no. BA Macchione, DanielaLanguage(s) of text German, EnglishProduct format Performance score(s), Anthology, Urtext editionIncludes the following individual parts ViolinBinding PaperbackPages / Format XVIII, 66 S. - 31,0 x 24,3 cm The 24 \\u201cCaprices\\u201d by Paganini form a coherent group of works which require the highest degree of technical expertise. Since their publication in 1817 the \\u201cCaprices\\u201d have remained the defining milestone of violin technique.B\\u00e4renreiter\\u2019s scholarly\"}, {\"role\": \"assistant\", \"content\": \"Price is $ 35.35\"}]}\n",
      "{\"messages\": [{\"role\": \"system\", \"content\": \"You estimate prices of items. Reply only with the price, no explanation\"}, {\"role\": \"user\", \"content\": \"How much does this cost?\\n\\n60PCS Disco Ball Ornament - 1.2 Inch Mirror Disco Ball 60s 70s Reflective Mirror Ball Christmas Tree Wedding Birthday Party Ball Ornaments\\n\\ud83c\\udf1f60PCS Silver disco mirror hanging ball Our silver disco balls are covered with shiny mirror squares.Spark beautifully under lights reflection.In this way, splendid light effect will be created.Enough quantity to your use,replacement,and share with your family and friends in your party. \\u2728Hanging easily Each disco party hanging ball ornament with a silver thread at the top for easy suspension.No need extra tools.Great for add happy atmosphere and beautiful lighting during during your stage party festival. \\ud83c\\udf1fQuality made Covered with tiny mirror squares for extended use and durability.Hanging decor with great refect light surface\"}, {\"role\": \"assistant\", \"content\": \"Price is $ 14.99\"}]}\n"
     ]
    }
   ],
   "source": [
    "print(make_jsonl(train[:3]))"
   ]
  },
  {
   "cell_type": "markdown",
   "metadata": {},
   "source": [
    "## 4.3 Save JSONL"
   ]
  },
  {
   "cell_type": "code",
   "execution_count": 11,
   "metadata": {},
   "outputs": [],
   "source": [
    "def write_jsonl(items, filename):\n",
    "    with open(filename, 'w') as f:\n",
    "        jsonl = make_jsonl(items)\n",
    "        f.write(jsonl)"
   ]
  },
  {
   "cell_type": "code",
   "execution_count": 12,
   "metadata": {},
   "outputs": [],
   "source": [
    "write_jsonl(fine_tune_train, 'fine_tune_train.jsonl')\n",
    "write_jsonl(fine_tune_validation, 'fine_tune_validation.jsonl')"
   ]
  },
  {
   "cell_type": "markdown",
   "metadata": {},
   "source": [
    "## 4.4 Load JSONL"
   ]
  },
  {
   "cell_type": "code",
   "execution_count": 13,
   "metadata": {},
   "outputs": [],
   "source": [
    "with open('fine_tune_train.jsonl', 'rb') as f:\n",
    "    train_file = openai.files.create(file=f, purpose='fine-tune')"
   ]
  },
  {
   "cell_type": "code",
   "execution_count": 14,
   "metadata": {},
   "outputs": [
    {
     "name": "stdout",
     "output_type": "stream",
     "text": [
      "FileObject(id='file-VwYAG1NPviFoKE7XPymrMT', bytes=470782, created_at=1744753698, filename='fine_tune_train.jsonl', object='file', purpose='fine-tune', status='processed', status_details=None, expires_at=None)\n"
     ]
    }
   ],
   "source": [
    "print(train_file)"
   ]
  },
  {
   "cell_type": "code",
   "execution_count": 15,
   "metadata": {},
   "outputs": [],
   "source": [
    "with open('fine_tune_validation.jsonl', 'rb') as f:\n",
    "    validation_file = openai.files.create(file=f, purpose='fine-tune')"
   ]
  },
  {
   "cell_type": "code",
   "execution_count": 16,
   "metadata": {},
   "outputs": [
    {
     "name": "stdout",
     "output_type": "stream",
     "text": [
      "FileObject(id='file-526BNB6ZgYZUQ2cTJKWz3r', bytes=466051, created_at=1744753700, filename='fine_tune_validation.jsonl', object='file', purpose='fine-tune', status='processed', status_details=None, expires_at=None)\n"
     ]
    }
   ],
   "source": [
    "print(validation_file)"
   ]
  },
  {
   "cell_type": "markdown",
   "metadata": {},
   "source": [
    "# 5 Fine-Tuning"
   ]
  },
  {
   "cell_type": "code",
   "execution_count": 17,
   "metadata": {},
   "outputs": [
    {
     "data": {
      "text/plain": [
       "FineTuningJob(id='ftjob-puz8yMngcy67ziHdVEFZGmn0', created_at=1744753703, error=Error(code=None, message=None, param=None), fine_tuned_model=None, finished_at=None, hyperparameters=Hyperparameters(batch_size='auto', learning_rate_multiplier='auto', n_epochs=1), model='gpt-4o-mini-2024-07-18', object='fine_tuning.job', organization_id='org-8cYu3pUev8eHFUUPBndE5KXh', result_files=[], seed=42, status='validating_files', trained_tokens=None, training_file='file-VwYAG1NPviFoKE7XPymrMT', validation_file='file-526BNB6ZgYZUQ2cTJKWz3r', estimated_finish=None, integrations=[], method=Method(dpo=None, supervised=MethodSupervised(hyperparameters=MethodSupervisedHyperparameters(batch_size='auto', learning_rate_multiplier='auto', n_epochs=1)), type='supervised'), user_provided_suffix='pricer', metadata=None)"
      ]
     },
     "execution_count": 17,
     "metadata": {},
     "output_type": "execute_result"
    }
   ],
   "source": [
    "openai.fine_tuning.jobs.create(\n",
    "    training_file=train_file.id,\n",
    "    validation_file=validation_file.id,\n",
    "    model='gpt-4o-mini-2024-07-18',\n",
    "    seed=42,\n",
    "    hyperparameters={'n_epochs': 1},\n",
    "    suffix='pricer'\n",
    ")"
   ]
  },
  {
   "cell_type": "code",
   "execution_count": 18,
   "metadata": {},
   "outputs": [
    {
     "data": {
      "text/plain": [
       "SyncCursorPage[FineTuningJob](data=[FineTuningJob(id='ftjob-puz8yMngcy67ziHdVEFZGmn0', created_at=1744753703, error=Error(code=None, message=None, param=None), fine_tuned_model=None, finished_at=None, hyperparameters=Hyperparameters(batch_size='auto', learning_rate_multiplier='auto', n_epochs=1), model='gpt-4o-mini-2024-07-18', object='fine_tuning.job', organization_id='org-8cYu3pUev8eHFUUPBndE5KXh', result_files=[], seed=42, status='validating_files', trained_tokens=None, training_file='file-VwYAG1NPviFoKE7XPymrMT', validation_file='file-526BNB6ZgYZUQ2cTJKWz3r', estimated_finish=None, integrations=[], method=Method(dpo=None, supervised=MethodSupervised(hyperparameters=MethodSupervisedHyperparameters(batch_size='auto', learning_rate_multiplier='auto', n_epochs=1)), type='supervised'), user_provided_suffix='pricer', metadata=None)], has_more=True, object='list')"
      ]
     },
     "execution_count": 18,
     "metadata": {},
     "output_type": "execute_result"
    }
   ],
   "source": [
    "openai.fine_tuning.jobs.list(limit=1)"
   ]
  },
  {
   "cell_type": "code",
   "execution_count": 19,
   "metadata": {},
   "outputs": [],
   "source": [
    "job_id = openai.fine_tuning.jobs.list(limit=1).data[0].id"
   ]
  },
  {
   "cell_type": "code",
   "execution_count": 21,
   "metadata": {},
   "outputs": [
    {
     "data": {
      "text/plain": [
       "FineTuningJob(id='ftjob-puz8yMngcy67ziHdVEFZGmn0', created_at=1744753703, error=Error(code=None, message=None, param=None), fine_tuned_model=None, finished_at=None, hyperparameters=Hyperparameters(batch_size=1, learning_rate_multiplier=1.8, n_epochs=1), model='gpt-4o-mini-2024-07-18', object='fine_tuning.job', organization_id='org-8cYu3pUev8eHFUUPBndE5KXh', result_files=[], seed=42, status='validating_files', trained_tokens=None, training_file='file-VwYAG1NPviFoKE7XPymrMT', validation_file='file-526BNB6ZgYZUQ2cTJKWz3r', estimated_finish=None, integrations=[], method=Method(dpo=None, supervised=MethodSupervised(hyperparameters=MethodSupervisedHyperparameters(batch_size=1, learning_rate_multiplier=1.8, n_epochs=1)), type='supervised'), user_provided_suffix='pricer', metadata=None)"
      ]
     },
     "execution_count": 21,
     "metadata": {},
     "output_type": "execute_result"
    }
   ],
   "source": [
    "openai.fine_tuning.jobs.retrieve(job_id)"
   ]
  },
  {
   "cell_type": "code",
   "execution_count": null,
   "metadata": {},
   "outputs": [],
   "source": []
  }
 ],
 "metadata": {
  "kernelspec": {
   "display_name": "venv",
   "language": "python",
   "name": "python3"
  },
  "language_info": {
   "codemirror_mode": {
    "name": "ipython",
    "version": 3
   },
   "file_extension": ".py",
   "mimetype": "text/x-python",
   "name": "python",
   "nbconvert_exporter": "python",
   "pygments_lexer": "ipython3",
   "version": "3.12.4"
  }
 },
 "nbformat": 4,
 "nbformat_minor": 2
}
