{
 "cells": [
  {
   "cell_type": "markdown",
   "metadata": {},
   "source": [
    "# 1 Imports"
   ]
  },
  {
   "cell_type": "code",
   "execution_count": 1,
   "metadata": {},
   "outputs": [],
   "source": [
    "import os\n",
    "from dotenv import load_dotenv\n",
    "from openai import OpenAI\n",
    "import gradio as gr\n",
    "import glob"
   ]
  },
  {
   "cell_type": "markdown",
   "metadata": {},
   "source": [
    "# 2 Connect to OpenAI"
   ]
  },
  {
   "cell_type": "code",
   "execution_count": 2,
   "metadata": {},
   "outputs": [],
   "source": [
    "# Load environment variables in a file called .env\n",
    "\n",
    "load_dotenv()\n",
    "api_key = os.getenv('OPEN_API_KEY')\n",
    "model = \"gpt-4o-mini\""
   ]
  },
  {
   "cell_type": "code",
   "execution_count": 3,
   "metadata": {},
   "outputs": [],
   "source": [
    "openai = OpenAI()"
   ]
  },
  {
   "cell_type": "markdown",
   "metadata": {},
   "source": [
    "# 3 Import Knowledge Base"
   ]
  },
  {
   "cell_type": "code",
   "execution_count": 4,
   "metadata": {},
   "outputs": [],
   "source": [
    "context = {}\n",
    "\n",
    "employees = glob.glob(\"knowledge-base/employees/*\")\n",
    "\n",
    "for employee in employees:\n",
    "\n",
    "    name = employee.split(' ')[-1][:-3]\n",
    "\n",
    "    with open(employee, 'r', encoding=\"utf-8\") as f:\n",
    "        doc = f.read()\n",
    "\n",
    "    context[name] = doc"
   ]
  },
  {
   "cell_type": "code",
   "execution_count": 5,
   "metadata": {},
   "outputs": [],
   "source": [
    "products = glob.glob(\"knowledge-base/products/*\")\n",
    "\n",
    "for product in products:\n",
    "    \n",
    "    name = product.split('\\\\')[-1][:-3]\n",
    "\n",
    "    with open(product, 'r', encoding=\"utf-8\") as f:\n",
    "        doc = f.read()\n",
    "\n",
    "    context[name] = doc"
   ]
  },
  {
   "cell_type": "markdown",
   "metadata": {},
   "source": [
    "# 4 OpenAI Model Configuration"
   ]
  },
  {
   "cell_type": "code",
   "execution_count": 6,
   "metadata": {},
   "outputs": [],
   "source": [
    "system_message = '''You are an expert in answering accurate questions about employees about Insurellm, the Isurance Tech company. Give brief, accurate answer.\n",
    " If you don't know the answer, say so. Do not make anything up if you haven't been provided with relevant context.\n",
    "'''"
   ]
  },
  {
   "cell_type": "code",
   "execution_count": 7,
   "metadata": {},
   "outputs": [],
   "source": [
    "def get_relevant_context(message):\n",
    "    relevant_context = []\n",
    "\n",
    "    for context_title, context_details in context.items():\n",
    "        if context_title in message:\n",
    "            relevant_context.append(context_details)\n",
    "    return relevant_context"
   ]
  },
  {
   "cell_type": "code",
   "execution_count": 8,
   "metadata": {},
   "outputs": [],
   "source": [
    "def add_context(message):\n",
    "    relevant_context = get_relevant_context(message)\n",
    "\n",
    "    if relevant_context:\n",
    "        message += \"\\n\\n The following additional context might be relevant in answering this question: \\n\\n\"\n",
    "        for relevant in relevant_context:\n",
    "            message += relevant + \"\\n\\n\"\n",
    "            \n",
    "    return message"
   ]
  },
  {
   "cell_type": "code",
   "execution_count": 9,
   "metadata": {},
   "outputs": [
    {
     "name": "stdout",
     "output_type": "stream",
     "text": [
      "Whos is Avery Lancaster?\n",
      "\n",
      " The following additional context might be relevant in answering this question: \n",
      "\n",
      "# Avery Lancaster\n",
      "\n",
      "## Summary\n",
      "- **Date of Birth**: March 15, 1985  \n",
      "- **Job Title**: Co-Founder & Chief Executive Officer (CEO)  \n",
      "- **Location**: San Francisco, California  \n",
      "\n",
      "## Insurellm Career Progression\n",
      "- **2015 - Present**: Co-Founder & CEO  \n",
      "  Avery Lancaster co-founded Insurellm in 2015 and has since guided the company to its current position as a leading Insurance Tech provider. Avery is known for her innovative leadership strategies and risk management expertise that have catapulted the company into the mainstream insurance market.  \n",
      "\n",
      "- **2013 - 2015**: Senior Product Manager at Innovate Insurance Solutions  \n",
      "  Before launching Insurellm, Avery was a leading Senior Product Manager at Innovate Insurance Solutions, where she developed groundbreaking insurance products aimed at the tech sector.  \n",
      "\n",
      "- **2010 - 2013**: Business Analyst at Edge Analytics  \n",
      "  Prior to joining Innovate, Avery worked as a Business Analyst, focusing on market trends and consumer preferences in the insurance space. This position laid the groundwork for Avery’s future entrepreneurial endeavors.\n",
      "\n",
      "## Annual Performance History\n",
      "- **2015**: **Exceeds Expectations**  \n",
      "  Avery’s leadership during Insurellm's foundational year led to successful product launches and securing initial funding.  \n",
      "\n",
      "- **2016**: **Meets Expectations**  \n",
      "  Growth continued, though challenges arose in operational efficiency that required Avery's attention.  \n",
      "\n",
      "- **2017**: **Developing**  \n",
      "  Market competition intensified, and monthly sales metrics were below targets. Avery implemented new strategies which required a steep learning curve.  \n",
      "\n",
      "- **2018**: **Exceeds Expectations**  \n",
      "  Under Avery’s pivoted vision, Insurellm launched two new successful products that significantly increased market share.  \n",
      "\n",
      "- **2019**: **Meets Expectations**  \n",
      "  Steady growth, however, some team tensions led to a minor drop in employee morale. Avery recognized the need to enhance company culture.  \n",
      "\n",
      "- **2020**: **Below Expectations**  \n",
      "  The COVID-19 pandemic posed unforeseen operational difficulties. Avery faced criticism for delayed strategy shifts, although efforts were eventually made to stabilize the company.  \n",
      "\n",
      "- **2021**: **Exceptional**  \n",
      "  Avery's decisive transition to remote work and rapid adoption of digital tools led to record-high customer satisfaction levels and increased sales.  \n",
      "\n",
      "- **2022**: **Satisfactory**  \n",
      "  Avery focused on rebuilding team dynamics and addressing employee concerns, leading to overall improvement despite a saturated market.  \n",
      "\n",
      "- **2023**: **Exceeds Expectations**  \n",
      "  Market leadership was regained with innovative approaches to personalized insurance solutions. Avery is now recognized in industry publications as a leading voice in Insurance Tech innovation.\n",
      "\n",
      "## Compensation History\n",
      "- **2015**: $150,000 base salary + Significant equity stake  \n",
      "- **2016**: $160,000 base salary + Equity increase  \n",
      "- **2017**: $150,000 base salary + Decrease in bonus due to performance  \n",
      "- **2018**: $180,000 base salary + performance bonus of $30,000  \n",
      "- **2019**: $185,000 base salary + market adjustment + $5,000 bonus  \n",
      "- **2020**: $170,000 base salary (temporary reduction due to COVID-19)  \n",
      "- **2021**: $200,000 base salary + performance bonus of $50,000  \n",
      "- **2022**: $210,000 base salary + retention bonus  \n",
      "- **2023**: $225,000 base salary + $75,000 performance bonus  \n",
      "\n",
      "## Other HR Notes\n",
      "- **Professional Development**: Avery has actively participated in leadership training programs and industry conferences, representing Insurellm and fostering partnerships.  \n",
      "- **Diversity & Inclusion Initiatives**: Avery has championed a commitment to diversity in hiring practices, seeing visible improvements in team representation since 2021.  \n",
      "- **Work-Life Balance**: Feedback revealed concerns regarding work-life balance, which Avery has approached by implementing flexible working conditions and ensuring regular check-ins with the team.\n",
      "- **Community Engagement**: Avery led community outreach efforts, focusing on financial literacy programs, particularly aimed at underserved populations, improving Insurellm's corporate social responsibility image.  \n",
      "\n",
      "Avery Lancaster has demonstrated resilience and adaptability throughout her career at Insurellm, positioning the company as a key player in the insurance technology landscape.\n",
      "\n",
      "\n"
     ]
    }
   ],
   "source": [
    "print(add_context(\"Whos is Avery Lancaster?\"))"
   ]
  },
  {
   "cell_type": "code",
   "execution_count": 10,
   "metadata": {},
   "outputs": [],
   "source": [
    "def chat(message, history):\n",
    "    \n",
    "    messages = [{'role': 'system', 'content': system_message}]\n",
    "    for user_message, assistant_message in history:\n",
    "        messages.append({'role': 'user', 'content': user_message})\n",
    "        messages.append({'role': 'assistant', 'content': assistant_message})\n",
    "\n",
    "    message = add_context(message)\n",
    "    messages.append({'role': 'user', 'content': message})\n",
    "\n",
    "    stream = openai.chat.completions.create(model=model, messages=messages, stream=True)\n",
    "\n",
    "    response = \"\"\n",
    "    for chunk in stream:\n",
    "        response += chunk.choices[0].delta.content or ''\n",
    "        yield response"
   ]
  },
  {
   "cell_type": "markdown",
   "metadata": {},
   "source": [
    "# 5 UI with Gradio"
   ]
  },
  {
   "cell_type": "code",
   "execution_count": 11,
   "metadata": {},
   "outputs": [
    {
     "name": "stderr",
     "output_type": "stream",
     "text": [
      "c:\\Users\\filip\\GitHub\\Mastering-LLM-Agentic-AI\\venv\\Lib\\site-packages\\gradio\\components\\chatbot.py:290: UserWarning: The 'tuples' format for chatbot messages is deprecated and will be removed in a future version of Gradio. Please set type='messages' instead, which uses openai-style 'role' and 'content' keys.\n",
      "  warnings.warn(\n"
     ]
    },
    {
     "name": "stdout",
     "output_type": "stream",
     "text": [
      "* Running on local URL:  http://127.0.0.1:7860\n",
      "\n",
      "To create a public link, set `share=True` in `launch()`.\n"
     ]
    },
    {
     "data": {
      "text/html": [
       "<div><iframe src=\"http://127.0.0.1:7860/\" width=\"100%\" height=\"500\" allow=\"autoplay; camera; microphone; clipboard-read; clipboard-write;\" frameborder=\"0\" allowfullscreen></iframe></div>"
      ],
      "text/plain": [
       "<IPython.core.display.HTML object>"
      ]
     },
     "metadata": {},
     "output_type": "display_data"
    }
   ],
   "source": [
    "view = gr.ChatInterface(chat).launch()"
   ]
  }
 ],
 "metadata": {
  "kernelspec": {
   "display_name": "venv",
   "language": "python",
   "name": "python3"
  },
  "language_info": {
   "codemirror_mode": {
    "name": "ipython",
    "version": 3
   },
   "file_extension": ".py",
   "mimetype": "text/x-python",
   "name": "python",
   "nbconvert_exporter": "python",
   "pygments_lexer": "ipython3",
   "version": "3.12.4"
  }
 },
 "nbformat": 4,
 "nbformat_minor": 2
}
