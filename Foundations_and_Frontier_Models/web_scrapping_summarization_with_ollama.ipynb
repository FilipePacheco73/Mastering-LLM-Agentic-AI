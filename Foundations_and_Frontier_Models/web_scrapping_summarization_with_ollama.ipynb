{
 "cells": [
  {
   "cell_type": "markdown",
   "metadata": {},
   "source": [
    "# 1 Imports"
   ]
  },
  {
   "cell_type": "code",
   "execution_count": 1,
   "metadata": {},
   "outputs": [],
   "source": [
    "import os\n",
    "import requests\n",
    "from bs4 import BeautifulSoup\n",
    "from IPython.display import Markdown, display\n",
    "import ollama"
   ]
  },
  {
   "cell_type": "markdown",
   "metadata": {},
   "source": [
    "# 2 OLLAMA Connection"
   ]
  },
  {
   "cell_type": "code",
   "execution_count": 2,
   "metadata": {},
   "outputs": [],
   "source": [
    "ollama_api = \"http://localhost:11434/api/chat\"\n",
    "headers = {\"Content-Type\": \"application/json\"}\n",
    "model = \"llama3.2\""
   ]
  },
  {
   "cell_type": "markdown",
   "metadata": {},
   "source": [
    "# 3 Webpage scrapping class"
   ]
  },
  {
   "cell_type": "code",
   "execution_count": 3,
   "metadata": {},
   "outputs": [],
   "source": [
    "class Website:\n",
    "    \"\"\"\n",
    "    A utility class to represent a Website that we have scrapped\n",
    "    \"\"\"\n",
    "    url: str\n",
    "    title: str\n",
    "    text: str\n",
    "\n",
    "    def __init__(self, url):\n",
    "        \"\"\"\n",
    "        Create this Website object from the given url the BeutifulSoup library\n",
    "        \"\"\"\n",
    "\n",
    "        self.url = url\n",
    "        response = requests.get(url)\n",
    "        soup = BeautifulSoup(response.content, 'html.parser')\n",
    "        self.title = soup.title.string if soup.title else \"No title found\"\n",
    "\n",
    "        for irrelevant in soup.body([\"script\", \"style\", \"img\", \"input\"]):\n",
    "            irrelevant.decompose()\n",
    "\n",
    "        self.text = soup.body.get_text(separator=\"\\n\", strip=True)"
   ]
  },
  {
   "cell_type": "code",
   "execution_count": 4,
   "metadata": {},
   "outputs": [
    {
     "name": "stdout",
     "output_type": "stream",
     "text": [
      "Home - Edward Donner\n",
      "Home\n",
      "Connect Four\n",
      "Outsmart\n",
      "An arena that pits LLMs against each other in a battle of diplomacy and deviousness\n",
      "About\n",
      "Posts\n",
      "Well, hi there.\n",
      "I’m Ed. I like writing code and experimenting with LLMs, and hopefully you’re here because you do too. I also enjoy DJing (but I’m badly out of practice), amateur electronic music production (\n",
      "very\n",
      "amateur) and losing myself in\n",
      "Hacker News\n",
      ", nodding my head sagely to things I only half understand.\n",
      "I’m the co-founder and CTO of\n",
      "Nebula.io\n",
      ". We’re applying AI to a field where it can make a massive, positive impact: helping people discover their potential and pursue their reason for being. Recruiters use our product today to source, understand, engage and manage talent. I’m previously the founder and CEO of AI startup untapt,\n",
      "acquired in 2021\n",
      ".\n",
      "We work with groundbreaking, proprietary LLMs verticalized for talent, we’ve\n",
      "patented\n",
      "our matching model, and our award-winning platform has happy customers and tons of press coverage.\n",
      "Connect\n",
      "with me for more!\n",
      "January 23, 2025\n",
      "LLM Workshop – Hands-on with Agents – resources\n",
      "December 21, 2024\n",
      "Welcome, SuperDataScientists!\n",
      "November 13, 2024\n",
      "Mastering AI and LLM Engineering – Resources\n",
      "October 16, 2024\n",
      "From Software Engineer to AI Data Scientist – resources\n",
      "Navigation\n",
      "Home\n",
      "Connect Four\n",
      "Outsmart\n",
      "An arena that pits LLMs against each other in a battle of diplomacy and deviousness\n",
      "About\n",
      "Posts\n",
      "Get in touch\n",
      "ed [at] edwarddonner [dot] com\n",
      "www.edwarddonner.com\n",
      "Follow me\n",
      "LinkedIn\n",
      "Twitter\n",
      "Facebook\n",
      "Subscribe to newsletter\n",
      "Type your email…\n",
      "Subscribe\n"
     ]
    }
   ],
   "source": [
    "website = Website(\"https://edwarddonner.com\")\n",
    "print(website.title)\n",
    "print(website.text)"
   ]
  },
  {
   "cell_type": "markdown",
   "metadata": {},
   "source": [
    "# 4 Prompt Configuration"
   ]
  },
  {
   "cell_type": "code",
   "execution_count": 5,
   "metadata": {},
   "outputs": [],
   "source": [
    "# Define system prompt\n",
    "\n",
    "system_prompt = \"You are an assistant that analyzes the contets of a website \\\n",
    "    and provides a short summary, ignoring text that might be navigation related. \\\n",
    "    Respond in markdown.\""
   ]
  },
  {
   "cell_type": "code",
   "execution_count": 6,
   "metadata": {},
   "outputs": [],
   "source": [
    "# A function that writes a User Prompt that asks for summaries of websites:\n",
    "\n",
    "def user_prompt_for(website):\n",
    "    user_prompt = f\"You are lookin at a website title {website.title}\"\n",
    "    user_prompt += \"\"\" The contents of this website is as follows; \\\n",
    "        please provide a short summary of this website in markdown. \\\n",
    "        If it includes news or annoucements, then summrarize these too.\\n\\n \"\"\"\n",
    "    user_prompt += website.text\n",
    "    return user_prompt"
   ]
  },
  {
   "cell_type": "code",
   "execution_count": 7,
   "metadata": {},
   "outputs": [],
   "source": [
    "# Ollama Message API structure\n",
    "\n",
    "def messages_for(website):\n",
    "    return [\n",
    "        {\"role\": \"system\", \"content\": system_prompt},\n",
    "        {\"role\": \"user\", \"content\": user_prompt_for(website)}\n",
    "    ]"
   ]
  },
  {
   "cell_type": "markdown",
   "metadata": {},
   "source": [
    "# 5 Ollama API Call"
   ]
  },
  {
   "cell_type": "markdown",
   "metadata": {},
   "source": [
    "## 5.1 Summary Edwarddonner Website"
   ]
  },
  {
   "cell_type": "code",
   "execution_count": 8,
   "metadata": {},
   "outputs": [],
   "source": [
    "def summarize(url):\n",
    "    website = Website(url)\n",
    "    messages = messages_for(website)\n",
    "    response = ollama.chat(model=model, messages=messages)\n",
    "    return response['message']['content']      "
   ]
  },
  {
   "cell_type": "code",
   "execution_count": 9,
   "metadata": {},
   "outputs": [],
   "source": [
    "# A function to display this nicely in Jupyter output, using Markdown\n",
    "def display_summary(text):\n",
    "    display(Markdown(text))"
   ]
  },
  {
   "cell_type": "code",
   "execution_count": 10,
   "metadata": {},
   "outputs": [
    {
     "data": {
      "text/markdown": [
       "**Summary of Website**\n",
       "========================\n",
       "\n",
       "### Overview\n",
       "\n",
       "This website appears to be a personal blog or portfolio of Edward Donner, the CTO and co-founder of Nebula.io. The website showcases Donner's interests in LLMs (Large Language Models), AI, and technology.\n",
       "\n",
       "### Featured Content\n",
       "\n",
       "* **About**: A brief introduction to Donner, his background, and his work at Nebula.io.\n",
       "* **News and Announcements**:\n",
       "\t+ **January 23, 2025: LLM Workshop – Hands-on with Agents – resources**: A workshop announcement for a hands-on experience with agents in LLMs.\n",
       "\t+ **December 21, 2024: Welcome, SuperDataScientists!**: An invitation to a community of data scientists and AI enthusiasts.\n",
       "\t+ **November 13, 2024: Mastering AI and LLM Engineering – Resources**: A resource page for learning about AI and LLM engineering.\n",
       "\t+ **October 16, 2024: From Software Engineer to AI Data Scientist – resources**: Another resource page for career development in AI.\n",
       "\n",
       "### Other Sections\n",
       "\n",
       "* **Connect Four**: A game section that is currently empty.\n",
       "* **Outsmart**: An arena where LLMs compete against each other in a battle of diplomacy and deviousness (not yet fully functional).\n",
       "\n",
       "Note: The website appears to be under construction, with some sections still in development."
      ],
      "text/plain": [
       "<IPython.core.display.Markdown object>"
      ]
     },
     "metadata": {},
     "output_type": "display_data"
    }
   ],
   "source": [
    "display_summary(summarize(\"https://edwarddonner.com\"))"
   ]
  },
  {
   "cell_type": "markdown",
   "metadata": {},
   "source": [
    "## 5.2 Summary of CNN Website"
   ]
  },
  {
   "cell_type": "code",
   "execution_count": 11,
   "metadata": {},
   "outputs": [
    {
     "data": {
      "text/markdown": [
       "The provided text is a sample of CNN's website, displaying a wide range of news articles and features on various topics such as politics, technology, health, entertainment, and more.\n",
       "\n",
       "Here are some observations about the content:\n",
       "\n",
       "1. **Diverse topics**: The article covers a broad spectrum of subjects, indicating that CNN aims to provide comprehensive coverage of current events.\n",
       "2. **Global perspective**: Stories from around the world are featured, suggesting CNN's commitment to global journalism.\n",
       "3. **In-depth reporting**: Many articles include quotes, statistics, and expert opinions, indicating in-depth research and investigation.\n",
       "4. **Breaking news**: The article includes up-to-date information on recent developments, such as the Ukraine-Russia War and Israel-Hamas conflict.\n",
       "5. **Lifestyle and entertainment**: Segments on topics like fitness, food, sleep, mindfulness, relationships, movies, television, celebrity, and technology suggest CNN's interest in providing more holistic content for its audience.\n",
       "\n",
       "If you were to engage with this article or explore the full range of articles on CNN's website, some potential questions to consider might be:\n",
       "\n",
       "* How does CNN balance its coverage of global news with local reporting?\n",
       "* What role do opinion pieces play in the overall editorial strategy of CNN?\n",
       "* How does CNN approach investigative journalism, and what notable examples can you find in this sample?\n",
       "\n",
       "Feel free to ask me any specific questions about this article or explore other topics related to CNN and current events!"
      ],
      "text/plain": [
       "<IPython.core.display.Markdown object>"
      ]
     },
     "metadata": {},
     "output_type": "display_data"
    }
   ],
   "source": [
    "display_summary(summarize(\"http://cnn.com\"))"
   ]
  },
  {
   "cell_type": "markdown",
   "metadata": {},
   "source": [
    "## 5.3 Summary of InfoMoney Website"
   ]
  },
  {
   "cell_type": "code",
   "execution_count": 12,
   "metadata": {},
   "outputs": [
    {
     "data": {
      "text/markdown": [
       "Olá! Estou aqui para ajudar.\n",
       "\n",
       "Parece que você está procurando informações sobre investimentos, finanças e economia. Aqui estão algumas sugestões de como posso ajudá-lo:\n",
       "\n",
       "1. **Investimentos**: Você pode querer saber mais sobre como investir em ações, títulos, fundos mútuos ou outros ativos financeiros.\n",
       "2. **Finanças pessoais**: Você pode estar procurando conselhos sobre como gerenciar seus débitos, criar um orçamento, economizar dinheiro ou planejar sua situação financeira.\n",
       "3. **Economia**: Você pode querer saber mais sobre tendências econômicas atuais, impacto da política econômica, crises financeiras e outras questões relacionadas à economia.\n",
       "4. **Dúvidas gerais**: Você pode ter alguma dúvida específica que não encontra resposta em nenhum dos tópicos acima.\n",
       "\n",
       "O que você gostaria de saber ou discutir?"
      ],
      "text/plain": [
       "<IPython.core.display.Markdown object>"
      ]
     },
     "metadata": {},
     "output_type": "display_data"
    }
   ],
   "source": [
    "display_summary(summarize(\"http://infomoney.com.br\"))"
   ]
  }
 ],
 "metadata": {
  "kernelspec": {
   "display_name": "venv",
   "language": "python",
   "name": "python3"
  },
  "language_info": {
   "codemirror_mode": {
    "name": "ipython",
    "version": 3
   },
   "file_extension": ".py",
   "mimetype": "text/x-python",
   "name": "python",
   "nbconvert_exporter": "python",
   "pygments_lexer": "ipython3",
   "version": "3.12.4"
  }
 },
 "nbformat": 4,
 "nbformat_minor": 2
}
