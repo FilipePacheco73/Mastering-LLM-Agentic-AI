{
 "cells": [
  {
   "cell_type": "markdown",
   "metadata": {},
   "source": [
    "# 1 Imports"
   ]
  },
  {
   "cell_type": "code",
   "execution_count": 49,
   "metadata": {},
   "outputs": [],
   "source": [
    "import os\n",
    "import requests\n",
    "from dotenv import  load_dotenv\n",
    "from bs4 import BeautifulSoup\n",
    "from IPython.display import Markdown, display\n",
    "from openai import OpenAI"
   ]
  },
  {
   "cell_type": "markdown",
   "metadata": {},
   "source": [
    "# 2 Connect to OpenAI"
   ]
  },
  {
   "cell_type": "code",
   "execution_count": 50,
   "metadata": {},
   "outputs": [],
   "source": [
    "# Load environment variables in a file called .env\n",
    "\n",
    "load_dotenv()\n",
    "api_key = os.getenv('OPEN_API_KEY')"
   ]
  },
  {
   "cell_type": "code",
   "execution_count": 51,
   "metadata": {},
   "outputs": [],
   "source": [
    "openai = OpenAI()"
   ]
  },
  {
   "cell_type": "code",
   "execution_count": 52,
   "metadata": {},
   "outputs": [],
   "source": [
    "class Website:\n",
    "    \"\"\"\n",
    "    A utility class to represent a Website that we have scrapped\n",
    "    \"\"\"\n",
    "    url: str\n",
    "    title: str\n",
    "    text: str\n",
    "\n",
    "    def __init__(self, url):\n",
    "        \"\"\"\n",
    "        Create this Website object from the given url the BeutifulSoup library\n",
    "        \"\"\"\n",
    "\n",
    "        self.url = url\n",
    "        response = requests.get(url)\n",
    "        soup = BeautifulSoup(response.content, 'html.parser')\n",
    "        self.title = soup.title.string if soup.title else \"No title found\"\n",
    "\n",
    "        for irrelevant in soup.body([\"script\", \"style\", \"img\", \"input\"]):\n",
    "            irrelevant.decompose()\n",
    "\n",
    "        self.text = soup.body.get_text(separator=\"\\n\", strip=True)"
   ]
  },
  {
   "cell_type": "code",
   "execution_count": 64,
   "metadata": {},
   "outputs": [
    {
     "name": "stdout",
     "output_type": "stream",
     "text": [
      "Home - Edward Donner\n",
      "Home\n",
      "Connect Four\n",
      "Outsmart\n",
      "An arena that pits LLMs against each other in a battle of diplomacy and deviousness\n",
      "About\n",
      "Posts\n",
      "Well, hi there.\n",
      "I’m Ed. I like writing code and experimenting with LLMs, and hopefully you’re here because you do too. I also enjoy DJing (but I’m badly out of practice), amateur electronic music production (\n",
      "very\n",
      "amateur) and losing myself in\n",
      "Hacker News\n",
      ", nodding my head sagely to things I only half understand.\n",
      "I’m the co-founder and CTO of\n",
      "Nebula.io\n",
      ". We’re applying AI to a field where it can make a massive, positive impact: helping people discover their potential and pursue their reason for being. Recruiters use our product today to source, understand, engage and manage talent. I’m previously the founder and CEO of AI startup untapt,\n",
      "acquired in 2021\n",
      ".\n",
      "We work with groundbreaking, proprietary LLMs verticalized for talent, we’ve\n",
      "patented\n",
      "our matching model, and our award-winning platform has happy customers and tons of press coverage.\n",
      "Connect\n",
      "with me for more!\n",
      "January 23, 2025\n",
      "LLM Workshop – Hands-on with Agents – resources\n",
      "December 21, 2024\n",
      "Welcome, SuperDataScientists!\n",
      "November 13, 2024\n",
      "Mastering AI and LLM Engineering – Resources\n",
      "October 16, 2024\n",
      "From Software Engineer to AI Data Scientist – resources\n",
      "Navigation\n",
      "Home\n",
      "Connect Four\n",
      "Outsmart\n",
      "An arena that pits LLMs against each other in a battle of diplomacy and deviousness\n",
      "About\n",
      "Posts\n",
      "Get in touch\n",
      "ed [at] edwarddonner [dot] com\n",
      "www.edwarddonner.com\n",
      "Follow me\n",
      "LinkedIn\n",
      "Twitter\n",
      "Facebook\n",
      "Subscribe to newsletter\n",
      "Type your email…\n",
      "Subscribe\n"
     ]
    }
   ],
   "source": [
    "website = Website(\"https://edwarddonner.com\")\n",
    "print(website.title)\n",
    "print(website.text)"
   ]
  },
  {
   "cell_type": "markdown",
   "metadata": {},
   "source": [
    "# 3 Prompt Configuration"
   ]
  },
  {
   "cell_type": "code",
   "execution_count": 54,
   "metadata": {},
   "outputs": [],
   "source": [
    "# Define system prompt\n",
    "\n",
    "system_prompt = \"You are an assistant that analyzes the contets of a website \\\n",
    "    and provides a short summary, ignoring text that might be navigation related. \\\n",
    "    Respond in markdown.\""
   ]
  },
  {
   "cell_type": "code",
   "execution_count": 55,
   "metadata": {},
   "outputs": [],
   "source": [
    "# A function that writes a User Prompt that asks for summaries of websites:\n",
    "\n",
    "def user_prompt_for(website):\n",
    "    user_prompt = f\"You are lookin at a website title {website.title}\"\n",
    "    user_prompt += \"\"\" The contents of this website is as follows; \\\n",
    "        please provide a short summary of this website in markdown. \\\n",
    "        If it includes news or annoucements, then summrarize these too.\\n\\n \"\"\"\n",
    "    user_prompt += website.text\n",
    "    return user_prompt"
   ]
  },
  {
   "cell_type": "code",
   "execution_count": 56,
   "metadata": {},
   "outputs": [],
   "source": [
    "# OpenAI Message API structure\n",
    "\n",
    "def messages_for(website):\n",
    "    return [\n",
    "        {\"role\": \"system\", \"content\": system_prompt},\n",
    "        {\"role\": \"user\", \"content\": user_prompt_for(website)}\n",
    "    ]"
   ]
  },
  {
   "cell_type": "markdown",
   "metadata": {},
   "source": [
    "# 4 OpenAI API Call"
   ]
  },
  {
   "cell_type": "markdown",
   "metadata": {},
   "source": [
    "## 4.1 Summary Edwarddonner Website"
   ]
  },
  {
   "cell_type": "code",
   "execution_count": 57,
   "metadata": {},
   "outputs": [],
   "source": [
    "def summarize(url):\n",
    "    website = Website(url)\n",
    "    response = openai.chat.completions.create(\n",
    "        model = \"gpt-4o-mini\",\n",
    "        messages = messages_for(website)\n",
    "    )\n",
    "    return response.choices[0].message.content       "
   ]
  },
  {
   "cell_type": "code",
   "execution_count": 59,
   "metadata": {},
   "outputs": [],
   "source": [
    "output = summarize(\"http://edwarddonner.com\")"
   ]
  },
  {
   "cell_type": "code",
   "execution_count": 60,
   "metadata": {},
   "outputs": [],
   "source": [
    "# A function to display this nicely in Jupyter output, using Markdown\n",
    "def display_summary(text):\n",
    "    display(Markdown(text))"
   ]
  },
  {
   "cell_type": "code",
   "execution_count": 61,
   "metadata": {},
   "outputs": [
    {
     "data": {
      "text/markdown": [
       "# Summary of Edward Donner's Website\n",
       "\n",
       "Edward Donner's website serves as a personal space where he shares his interests in coding, experimenting with large language models (LLMs), and amateur electronic music production. As the co-founder and CTO of Nebula.io, he focuses on leveraging AI to enhance talent discovery and management in recruitment. Previously, he founded the AI startup untapt, which was acquired in 2021.\n",
       "\n",
       "## Key Features\n",
       "- **Connect Four**: A platform enabling LLMs to compete in a game of strategy and diplomacy.\n",
       "- **Outsmart**: Another arena for LLM competitions.\n",
       "- **Resource Posts**: The website features several announcements related to workshops and resources for AI and LLM engineering.\n",
       "\n",
       "## Recent News and Announcements\n",
       "- **January 23, 2025**: LLM Workshop – Hands-on with Agents – resources released.\n",
       "- **December 21, 2024**: Welcome message to SuperDataScientists.\n",
       "- **November 13, 2024**: Resources for Mastering AI and LLM Engineering shared.\n",
       "- **October 16, 2024**: Resources for transitioning from Software Engineer to AI Data Scientist provided."
      ],
      "text/plain": [
       "<IPython.core.display.Markdown object>"
      ]
     },
     "metadata": {},
     "output_type": "display_data"
    }
   ],
   "source": [
    "display_summary(output)"
   ]
  },
  {
   "cell_type": "markdown",
   "metadata": {},
   "source": [
    "## 4.2 Summary of CNN Website"
   ]
  },
  {
   "cell_type": "code",
   "execution_count": 65,
   "metadata": {},
   "outputs": [
    {
     "data": {
      "text/markdown": [
       "# CNN Website Summary\n",
       "\n",
       "CNN's website provides a comprehensive array of breaking news headlines, articles, and video content covering various topics, including current events, politics, business, health, and global affairs. Key recent stories include:\n",
       "\n",
       "- **Kash Patel** confirmed as the new FBI director, highlighting his ties to former President Trump and raising questions about implications for law enforcement.\n",
       "- Recent CNN polls indicate that Trump’s approval rating is at a peak, though it may not be sustainable.\n",
       "- The **Hamas** group has conducted a ceremonial release of bodies of Israeli hostages, indicating ongoing tensions in the region.\n",
       "- Further global news covers significant events like the recovery of illegal timber in Brazil and insights into the aftermath of conflicts affecting voters in Germany.\n",
       "\n",
       "The site also features diverse sections dedicated to sports, entertainment, technology, and lifestyle, alongside various programs, analyses, and specialized newsletters aimed at keeping readers informed on specific topics of interest. The platform encourages user interaction and feedback regarding its content and advertisements."
      ],
      "text/plain": [
       "<IPython.core.display.Markdown object>"
      ]
     },
     "metadata": {},
     "output_type": "display_data"
    }
   ],
   "source": [
    "display_summary(summarize(\"http://cnn.com\"))"
   ]
  },
  {
   "cell_type": "markdown",
   "metadata": {},
   "source": [
    "## 4.3 Summary of InfoMoney Website"
   ]
  },
  {
   "cell_type": "code",
   "execution_count": 66,
   "metadata": {},
   "outputs": [
    {
     "data": {
      "text/markdown": [
       "# InfoMoney – Informações que valem dinheiro\n",
       "\n",
       "InfoMoney é uma plataforma dedicada a fornecer informações financeiras e de investimento, abordando diversos tópicos relevantes tanto para investidores iniciantes quanto experientes. O site oferece cursos gratuitos, simuladores de investimentos, planilhas e ferramentas que ajudam os usuários a gerenciar suas finanças pessoais e tomar decisões informadas sobre onde investir.\n",
       "\n",
       "## Últimas Notícias\n",
       "\n",
       "- **Bolsa de Valores**: O mercado fechou em leve alta, impulsionado pela ação da Vale, enquanto bancos como o BB e a Gerdau enfrentaram quedas significativas.\n",
       "- **Câmbio**: O dólar teve uma queda, cotando a R$ 5,70, influenciado por tendências do mercado externo.\n",
       "- **Resultados Financeiros**: A Renner reportou um lucro líquido de R$ 487,2 milhões, o que representa uma queda de 7,5% em relação ao ano anterior.\n",
       "- **Análise de Ações**: Apesar dos prejuízos, a Vale teve um aumento de 3,7% em suas ações, gerando otimismo entre os investidores.\n",
       "\n",
       "### Outros Tópicos Relevantes\n",
       "- **Mercados**: BB teve lucros em linha com as expectativas, mas suas ações caíram 3% devido a fatores externos. Gerdau também relatou resultados em linha, mas com desafios iminentes para 2025.\n",
       "- **Política**: O STF mantém um prazo para a defesa de Bolsonaro em relação a denúncias da PGR.\n",
       "- **Economia**: Nubank apresentou um lucro líquido ajustado de US$ 610 milhões, marcando um aumento de 87% em comparação ao ano passado.\n",
       "\n",
       "InfoMoney continua a ser uma fonte crucial para informações financeiras, análises de mercado e tendências econômicas, ajudando o público a navegar pelo cenário financeiro em constante mudança."
      ],
      "text/plain": [
       "<IPython.core.display.Markdown object>"
      ]
     },
     "metadata": {},
     "output_type": "display_data"
    }
   ],
   "source": [
    "display_summary(summarize(\"http://infomoney.com.br\"))"
   ]
  }
 ],
 "metadata": {
  "kernelspec": {
   "display_name": "venv",
   "language": "python",
   "name": "python3"
  },
  "language_info": {
   "codemirror_mode": {
    "name": "ipython",
    "version": 3
   },
   "file_extension": ".py",
   "mimetype": "text/x-python",
   "name": "python",
   "nbconvert_exporter": "python",
   "pygments_lexer": "ipython3",
   "version": "3.12.4"
  }
 },
 "nbformat": 4,
 "nbformat_minor": 2
}
