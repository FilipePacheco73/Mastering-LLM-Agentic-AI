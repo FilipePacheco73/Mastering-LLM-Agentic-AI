{
 "cells": [
  {
   "cell_type": "markdown",
   "metadata": {},
   "source": [
    "# 1 Imports"
   ]
  },
  {
   "cell_type": "code",
   "execution_count": null,
   "metadata": {},
   "outputs": [],
   "source": [
    "import os\n",
    "import requests\n",
    "from dotenv import load_dotenv\n",
    "from bs4 import BeautifulSoup\n",
    "from IPython.display import Markdown, display\n",
    "from openai import OpenAI"
   ]
  },
  {
   "cell_type": "markdown",
   "metadata": {},
   "source": [
    "# 2 Connect to OpenAI"
   ]
  },
  {
   "cell_type": "code",
   "execution_count": 2,
   "metadata": {},
   "outputs": [],
   "source": [
    "# Load environment variables in a file called .env\n",
    "\n",
    "load_dotenv()\n",
    "api_key = os.getenv('OPEN_API_KEY')"
   ]
  },
  {
   "cell_type": "code",
   "execution_count": 3,
   "metadata": {},
   "outputs": [],
   "source": [
    "openai = OpenAI()"
   ]
  },
  {
   "cell_type": "markdown",
   "metadata": {},
   "source": [
    "# 3 Webpage scrapping class"
   ]
  },
  {
   "cell_type": "code",
   "execution_count": 4,
   "metadata": {},
   "outputs": [],
   "source": [
    "class Website:\n",
    "    \"\"\"\n",
    "    A utility class to represent a Website that we have scrapped\n",
    "    \"\"\"\n",
    "    url: str\n",
    "    title: str\n",
    "    text: str\n",
    "\n",
    "    def __init__(self, url):\n",
    "        \"\"\"\n",
    "        Create this Website object from the given url the BeutifulSoup library\n",
    "        \"\"\"\n",
    "\n",
    "        self.url = url\n",
    "        response = requests.get(url)\n",
    "        soup = BeautifulSoup(response.content, 'html.parser')\n",
    "        self.title = soup.title.string if soup.title else \"No title found\"\n",
    "\n",
    "        for irrelevant in soup.body([\"script\", \"style\", \"img\", \"input\"]):\n",
    "            irrelevant.decompose()\n",
    "\n",
    "        self.text = soup.body.get_text(separator=\"\\n\", strip=True)"
   ]
  },
  {
   "cell_type": "code",
   "execution_count": 5,
   "metadata": {},
   "outputs": [
    {
     "name": "stdout",
     "output_type": "stream",
     "text": [
      "Home - Edward Donner\n",
      "Home\n",
      "Connect Four\n",
      "Outsmart\n",
      "An arena that pits LLMs against each other in a battle of diplomacy and deviousness\n",
      "About\n",
      "Posts\n",
      "Well, hi there.\n",
      "I’m Ed. I like writing code and experimenting with LLMs, and hopefully you’re here because you do too. I also enjoy DJing (but I’m badly out of practice), amateur electronic music production (\n",
      "very\n",
      "amateur) and losing myself in\n",
      "Hacker News\n",
      ", nodding my head sagely to things I only half understand.\n",
      "I’m the co-founder and CTO of\n",
      "Nebula.io\n",
      ". We’re applying AI to a field where it can make a massive, positive impact: helping people discover their potential and pursue their reason for being. Recruiters use our product today to source, understand, engage and manage talent. I’m previously the founder and CEO of AI startup untapt,\n",
      "acquired in 2021\n",
      ".\n",
      "We work with groundbreaking, proprietary LLMs verticalized for talent, we’ve\n",
      "patented\n",
      "our matching model, and our award-winning platform has happy customers and tons of press coverage.\n",
      "Connect\n",
      "with me for more!\n",
      "January 23, 2025\n",
      "LLM Workshop – Hands-on with Agents – resources\n",
      "December 21, 2024\n",
      "Welcome, SuperDataScientists!\n",
      "November 13, 2024\n",
      "Mastering AI and LLM Engineering – Resources\n",
      "October 16, 2024\n",
      "From Software Engineer to AI Data Scientist – resources\n",
      "Navigation\n",
      "Home\n",
      "Connect Four\n",
      "Outsmart\n",
      "An arena that pits LLMs against each other in a battle of diplomacy and deviousness\n",
      "About\n",
      "Posts\n",
      "Get in touch\n",
      "ed [at] edwarddonner [dot] com\n",
      "www.edwarddonner.com\n",
      "Follow me\n",
      "LinkedIn\n",
      "Twitter\n",
      "Facebook\n",
      "Subscribe to newsletter\n",
      "Type your email…\n",
      "Subscribe\n"
     ]
    }
   ],
   "source": [
    "website = Website(\"https://edwarddonner.com\")\n",
    "print(website.title)\n",
    "print(website.text)"
   ]
  },
  {
   "cell_type": "markdown",
   "metadata": {},
   "source": [
    "# 4 Prompt Configuration"
   ]
  },
  {
   "cell_type": "code",
   "execution_count": 6,
   "metadata": {},
   "outputs": [],
   "source": [
    "# Define system prompt\n",
    "\n",
    "system_prompt = \"You are an assistant that analyzes the contets of a website \\\n",
    "    and provides a short summary, ignoring text that might be navigation related. \\\n",
    "    Respond in markdown.\""
   ]
  },
  {
   "cell_type": "code",
   "execution_count": 7,
   "metadata": {},
   "outputs": [],
   "source": [
    "# A function that writes a User Prompt that asks for summaries of websites:\n",
    "\n",
    "def user_prompt_for(website):\n",
    "    user_prompt = f\"You are lookin at a website title {website.title}\"\n",
    "    user_prompt += \"\"\" The contents of this website is as follows; \\\n",
    "        please provide a short summary of this website in markdown. \\\n",
    "        If it includes news or annoucements, then summrarize these too.\\n\\n \"\"\"\n",
    "    user_prompt += website.text\n",
    "    return user_prompt"
   ]
  },
  {
   "cell_type": "code",
   "execution_count": 8,
   "metadata": {},
   "outputs": [],
   "source": [
    "# OpenAI Message API structure\n",
    "\n",
    "def messages_for(website):\n",
    "    return [\n",
    "        {\"role\": \"system\", \"content\": system_prompt},\n",
    "        {\"role\": \"user\", \"content\": user_prompt_for(website)}\n",
    "    ]"
   ]
  },
  {
   "cell_type": "markdown",
   "metadata": {},
   "source": [
    "# 5 OpenAI API Call"
   ]
  },
  {
   "cell_type": "markdown",
   "metadata": {},
   "source": [
    "## 5.1 Summary Edwarddonner Website"
   ]
  },
  {
   "cell_type": "code",
   "execution_count": 9,
   "metadata": {},
   "outputs": [],
   "source": [
    "def summarize(url):\n",
    "    website = Website(url)\n",
    "    response = openai.chat.completions.create(\n",
    "        model = \"gpt-4o-mini\",\n",
    "        messages = messages_for(website)\n",
    "    )\n",
    "    return response.choices[0].message.content       "
   ]
  },
  {
   "cell_type": "code",
   "execution_count": 10,
   "metadata": {},
   "outputs": [],
   "source": [
    "output = summarize(\"http://edwarddonner.com\")"
   ]
  },
  {
   "cell_type": "code",
   "execution_count": 11,
   "metadata": {},
   "outputs": [],
   "source": [
    "# A function to display this nicely in Jupyter output, using Markdown\n",
    "def display_summary(text):\n",
    "    display(Markdown(text))"
   ]
  },
  {
   "cell_type": "code",
   "execution_count": 12,
   "metadata": {},
   "outputs": [
    {
     "data": {
      "text/markdown": [
       "# Summary of Edward Donner's Website\n",
       "\n",
       "Edward Donner's website serves as a platform for sharing insights and resources related to AI, particularly the use of Large Language Models (LLMs). Ed describes himself as a coder and experimentalist in the AI field, as well as a co-founder and CTO of Nebula.io, a company focused on leveraging AI for talent discovery.\n",
       "\n",
       "## Key Sections:\n",
       "- **About**: Ed provides a brief introduction about himself, mentioning his interests in coding, DJing, electronic music, and engagement with the tech community through platforms like Hacker News. He highlights his experience founding and managing AI startups, including Nebula.io and untapt.\n",
       "  \n",
       "- **Connect Four**: This section outlines a competitive arena concept where LLMs engage in strategic interactions against each other.\n",
       "\n",
       "## News and Announcements:\n",
       "1. **January 23, 2025**: Announcement of a hands-on LLM Workshop focused on Agents.\n",
       "2. **December 21, 2024**: Welcoming a new audience segment, \"SuperDataScientists.\"\n",
       "3. **November 13, 2024**: Release of resources for \"Mastering AI and LLM Engineering.\"\n",
       "4. **October 16, 2024**: Sharing resources for transitioning from a Software Engineer to an AI Data Scientist. \n",
       "\n",
       "For more updates or to connect with Ed, interested parties can subscribe to his newsletter."
      ],
      "text/plain": [
       "<IPython.core.display.Markdown object>"
      ]
     },
     "metadata": {},
     "output_type": "display_data"
    }
   ],
   "source": [
    "display_summary(output)"
   ]
  },
  {
   "cell_type": "markdown",
   "metadata": {},
   "source": [
    "## 5.2 Summary of CNN Website"
   ]
  },
  {
   "cell_type": "code",
   "execution_count": 13,
   "metadata": {},
   "outputs": [
    {
     "data": {
      "text/markdown": [
       "# Summary of CNN's Website Content\n",
       "\n",
       "CNN is a leading news organization providing breaking news, diverse topics, and in-depth analysis from around the world. The website covers various categories including U.S. News, World News, Politics, Business, Health, Entertainment, Sports, Science, and Climate.\n",
       "\n",
       "## Key Announcements and Updates:\n",
       "- **Digital Service Resignations**: Today, staffers from the U.S. Digital Service resigned, viewed as a mass protest related to the agency's involvement with the DOGE initiative.\n",
       "- **Current Events**:\n",
       "  - Republicans are seeking assistance from House leadership concerning pressures over DOGE cuts.\n",
       "  - Notable developments in the Ukraine-Russia conflict and an analysis of shifting alliances in Europe due to U.S. President Trump's policies.\n",
       "  - A trial related to the theft of a $6 million gold toilet has commenced.\n",
       "  - Recent concerning health news highlighted, including a study suggesting antidepressants may hasten dementia decline.\n",
       "\n",
       "Overall, CNN provides a wide range of news articles, live updates, and video content, making it a vital source for real-time information and analysis on current global issues."
      ],
      "text/plain": [
       "<IPython.core.display.Markdown object>"
      ]
     },
     "metadata": {},
     "output_type": "display_data"
    }
   ],
   "source": [
    "display_summary(summarize(\"http://cnn.com\"))"
   ]
  },
  {
   "cell_type": "markdown",
   "metadata": {},
   "source": [
    "## 5.3 Summary of InfoMoney Website"
   ]
  },
  {
   "cell_type": "code",
   "execution_count": 14,
   "metadata": {},
   "outputs": [
    {
     "data": {
      "text/markdown": [
       "# InfoMoney – Informações que valem dinheiro\n",
       "\n",
       "InfoMoney é um portal focado em fornecer informações financeiras, análises de mercado e orientações sobre investimento. O site oferece uma variedade de recursos, como planilhas de gastos e dividendos, simuladores de investimento, cursos e conteúdos educacionais sobre finanças pessoais. \n",
       "\n",
       "## Últimas Notícias\n",
       "\n",
       "- **Dólar e Bitcoin**: O dólar fechou em leve baixa após atingir R$ 5,80, enquanto o Bitcoin subiu para US$ 86 mil amid concerns sobre risco.\n",
       "- **Desempenho de ações**: Apesar de resultados recordes, ações da Marcopolo estão caindo. O Itaú BBA identificou 7 ações com potencial positivo no Brasil.\n",
       "- **Atualizações políticas e econômicas**: Foi discutido que Lula e Bolsonaro teriam um empate técnico nas eleições, e 69% da população reconheceu a alta dos preços, culpando o governo por isso.\n",
       "- **Desenvolvimentos globais**: O vídeo de IA de Trump foi exibido em um órgão do governo dos EUA, e a Casa Branca definirá quais repórteres cobrirão Trump.\n",
       "\n",
       "## Novos Recursos e Cursos\n",
       "\n",
       "- O site oferece uma infinidade de cursos gratuitos para investimento, como sobre renda fixa e dividendos de Fundos Imobiliários. Além disso, há uma planilha gratuita para acompanhamento de dividendos, auxiliando investidores a maximizar seus lucros.\n",
       "\n",
       "InfoMoney se posiciona como uma fonte confiável para quem deseja melhorar sua educação financeira e acompanhar as oscilações do mercado e oportunidades de investimento."
      ],
      "text/plain": [
       "<IPython.core.display.Markdown object>"
      ]
     },
     "metadata": {},
     "output_type": "display_data"
    }
   ],
   "source": [
    "display_summary(summarize(\"http://infomoney.com.br\"))"
   ]
  }
 ],
 "metadata": {
  "kernelspec": {
   "display_name": "venv",
   "language": "python",
   "name": "python3"
  },
  "language_info": {
   "codemirror_mode": {
    "name": "ipython",
    "version": 3
   },
   "file_extension": ".py",
   "mimetype": "text/x-python",
   "name": "python",
   "nbconvert_exporter": "python",
   "pygments_lexer": "ipython3",
   "version": "3.12.4"
  }
 },
 "nbformat": 4,
 "nbformat_minor": 2
}
